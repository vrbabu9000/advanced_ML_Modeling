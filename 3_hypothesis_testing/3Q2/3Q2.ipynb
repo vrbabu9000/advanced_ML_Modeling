{
 "cells": [
  {
   "cell_type": "markdown",
   "metadata": {},
   "source": [
    "# Hypothesis Question 2\n",
    "A hospital wants to determine whether there is any difference in the average Turn Around Time (TAT) of reports of the laboratories on their preferred list. They collected a random sample and recorded TAT for reports of 4 laboratories. TAT is defined as sample collected to report dispatch.\n",
    "   \n",
    "Analyze the data and determine whether there is any difference in average TAT among the different laboratories at 5% significance level."
   ]
  },
  {
   "cell_type": "markdown",
   "metadata": {},
   "source": [
    "### Steps to follow:\n",
    "1. Define H0 and H1 in the question.\n",
    "2. Do normality and variance test. \n",
    "3. Incase if data is not normal and not in same variance, proceed to a outliner removal and check again.\n",
    "4. Use one way anova test to determine if there is a difference in the average. \n",
    "5. Define the result based on the p-value."
   ]
  },
  {
   "cell_type": "markdown",
   "metadata": {},
   "source": [
    "### Hypothesis Definition\n",
    "H0 : There is no difference in the averages of different laboratories. i.e. All means are same. \n",
    "\n",
    "H1 : There is difference in atleast one of the averages of different laboratories. i.e Atleast one of mean is different. "
   ]
  },
  {
   "cell_type": "code",
   "execution_count": 1,
   "metadata": {},
   "outputs": [],
   "source": [
    "import pandas as pd\n",
    "import statsmodels.api as sm\n",
    "import pylab\n",
    "from scipy.stats import norm\n",
    "import scipy.stats as ss"
   ]
  },
  {
   "cell_type": "code",
   "execution_count": 2,
   "metadata": {},
   "outputs": [
    {
     "data": {
      "text/html": [
       "<div>\n",
       "<style scoped>\n",
       "    .dataframe tbody tr th:only-of-type {\n",
       "        vertical-align: middle;\n",
       "    }\n",
       "\n",
       "    .dataframe tbody tr th {\n",
       "        vertical-align: top;\n",
       "    }\n",
       "\n",
       "    .dataframe thead th {\n",
       "        text-align: right;\n",
       "    }\n",
       "</style>\n",
       "<table border=\"1\" class=\"dataframe\">\n",
       "  <thead>\n",
       "    <tr style=\"text-align: right;\">\n",
       "      <th></th>\n",
       "      <th>lab1</th>\n",
       "      <th>lab2</th>\n",
       "      <th>lab3</th>\n",
       "      <th>lab4</th>\n",
       "    </tr>\n",
       "  </thead>\n",
       "  <tbody>\n",
       "    <tr>\n",
       "      <th>0</th>\n",
       "      <td>185.35</td>\n",
       "      <td>165.53</td>\n",
       "      <td>176.70</td>\n",
       "      <td>166.13</td>\n",
       "    </tr>\n",
       "    <tr>\n",
       "      <th>1</th>\n",
       "      <td>170.49</td>\n",
       "      <td>185.91</td>\n",
       "      <td>198.45</td>\n",
       "      <td>160.79</td>\n",
       "    </tr>\n",
       "    <tr>\n",
       "      <th>2</th>\n",
       "      <td>192.77</td>\n",
       "      <td>194.92</td>\n",
       "      <td>201.23</td>\n",
       "      <td>185.18</td>\n",
       "    </tr>\n",
       "    <tr>\n",
       "      <th>3</th>\n",
       "      <td>177.33</td>\n",
       "      <td>183.00</td>\n",
       "      <td>199.61</td>\n",
       "      <td>176.42</td>\n",
       "    </tr>\n",
       "    <tr>\n",
       "      <th>4</th>\n",
       "      <td>193.41</td>\n",
       "      <td>169.57</td>\n",
       "      <td>204.63</td>\n",
       "      <td>152.60</td>\n",
       "    </tr>\n",
       "    <tr>\n",
       "      <th>...</th>\n",
       "      <td>...</td>\n",
       "      <td>...</td>\n",
       "      <td>...</td>\n",
       "      <td>...</td>\n",
       "    </tr>\n",
       "    <tr>\n",
       "      <th>115</th>\n",
       "      <td>178.49</td>\n",
       "      <td>170.66</td>\n",
       "      <td>193.80</td>\n",
       "      <td>172.68</td>\n",
       "    </tr>\n",
       "    <tr>\n",
       "      <th>116</th>\n",
       "      <td>176.08</td>\n",
       "      <td>183.98</td>\n",
       "      <td>215.25</td>\n",
       "      <td>177.64</td>\n",
       "    </tr>\n",
       "    <tr>\n",
       "      <th>117</th>\n",
       "      <td>202.48</td>\n",
       "      <td>174.54</td>\n",
       "      <td>203.99</td>\n",
       "      <td>170.27</td>\n",
       "    </tr>\n",
       "    <tr>\n",
       "      <th>118</th>\n",
       "      <td>182.40</td>\n",
       "      <td>197.18</td>\n",
       "      <td>194.52</td>\n",
       "      <td>150.87</td>\n",
       "    </tr>\n",
       "    <tr>\n",
       "      <th>119</th>\n",
       "      <td>182.09</td>\n",
       "      <td>215.17</td>\n",
       "      <td>221.49</td>\n",
       "      <td>162.21</td>\n",
       "    </tr>\n",
       "  </tbody>\n",
       "</table>\n",
       "<p>120 rows × 4 columns</p>\n",
       "</div>"
      ],
      "text/plain": [
       "       lab1    lab2    lab3    lab4\n",
       "0    185.35  165.53  176.70  166.13\n",
       "1    170.49  185.91  198.45  160.79\n",
       "2    192.77  194.92  201.23  185.18\n",
       "3    177.33  183.00  199.61  176.42\n",
       "4    193.41  169.57  204.63  152.60\n",
       "..      ...     ...     ...     ...\n",
       "115  178.49  170.66  193.80  172.68\n",
       "116  176.08  183.98  215.25  177.64\n",
       "117  202.48  174.54  203.99  170.27\n",
       "118  182.40  197.18  194.52  150.87\n",
       "119  182.09  215.17  221.49  162.21\n",
       "\n",
       "[120 rows x 4 columns]"
      ]
     },
     "execution_count": 2,
     "metadata": {},
     "output_type": "execute_result"
    }
   ],
   "source": [
    "Q2= pd.read_csv('C:\\\\Users\\\\Vignesh R Babu\\\\Documents\\\\ExcelRPython\\\\Assignment Codes\\\\3\\\\LabTAT.csv')\n",
    "Q2.rename(columns = {'Laboratory 1' : 'lab1', 'Laboratory 2' : 'lab2', 'Laboratory 3': 'lab3','Laboratory 4': 'lab4' }, inplace = True)\n",
    "Q2"
   ]
  },
  {
   "cell_type": "markdown",
   "metadata": {},
   "source": [
    "### Normality Test"
   ]
  },
  {
   "cell_type": "code",
   "execution_count": 3,
   "metadata": {},
   "outputs": [
    {
     "data": {
      "image/png": "[encoded data removed]",
      "text/plain": [
       "<Figure size 432x288 with 1 Axes>"
      ]
     },
     "metadata": {
      "needs_background": "light"
     },
     "output_type": "display_data"
    },
    {
     "data": {
      "image/png": "[encoded data removed]",
      "text/plain": [
       "<Figure size 432x288 with 1 Axes>"
      ]
     },
     "metadata": {
      "needs_background": "light"
     },
     "output_type": "display_data"
    },
    {
     "data": {
      "image/png": "[encoded data removed]",
      "text/plain": [
       "<Figure size 432x288 with 1 Axes>"
      ]
     },
     "metadata": {
      "needs_background": "light"
     },
     "output_type": "display_data"
    },
    {
     "data": {
      "image/png": "[encoded data removed]",
      "text/plain": [
       "<Figure size 432x288 with 1 Axes>"
      ]
     },
     "metadata": {
      "needs_background": "light"
     },
     "output_type": "display_data"
    }
   ],
   "source": [
    "sm.qqplot(Q2.lab1, line = 's')\n",
    "pylab.title('QQ plot for lab1')\n",
    "\n",
    "sm.qqplot(Q2.lab2, line = 's')\n",
    "pylab.title('QQ plot for lab2')\n",
    "\n",
    "sm.qqplot(Q2.lab3, line = 's')\n",
    "pylab.title('QQ plot for lab3')\n",
    "\n",
    "sm.qqplot(Q2.lab4, line = 's')\n",
    "pylab.title('QQ plot for lab4')\n",
    "pylab.show() #All distributions are almost normal as per QQ plot"
   ]
  },
  {
   "cell_type": "markdown",
   "metadata": {},
   "source": [
    " ### Variance Test - Use Bartlett's test for homogeneity of variances\n",
    "https://docs.scipy.org/doc/scipy/reference/generated/scipy.stats.bartlett.html#:~:text=Perform%20Bartlett's%20test%20for%20equal,test%20levene%20is%20more%20robust.\n"
   ]
  },
  {
   "cell_type": "code",
   "execution_count": 4,
   "metadata": {},
   "outputs": [
    {
     "data": {
      "text/plain": [
       "BartlettResult(statistic=6.099521405922483, pvalue=0.10686741658107135)"
      ]
     },
     "execution_count": 4,
     "metadata": {},
     "output_type": "execute_result"
    }
   ],
   "source": [
    "ss.bartlett(Q2.lab1,Q2.lab2,Q2.lab3,Q2.lab4) #p-value > 0.05. Therefore, Variances can be assumed to be same. "
   ]
  },
  {
   "cell_type": "markdown",
   "metadata": {},
   "source": [
    "### One way ANOVA test:\n",
    "\n",
    "The statistic this test returns is equvalent to the variation in variance between inner groups. \n",
    "p-value is the only thing we are concerned about."
   ]
  },
  {
   "cell_type": "code",
   "execution_count": 5,
   "metadata": {},
   "outputs": [
    {
     "data": {
      "text/plain": [
       "F_onewayResult(statistic=118.70421654401437, pvalue=2.1156708949992414e-57)"
      ]
     },
     "execution_count": 5,
     "metadata": {},
     "output_type": "execute_result"
    }
   ],
   "source": [
    "ss.f_oneway(Q2.lab1,Q2.lab2,Q2.lab3,Q2.lab4) #p-value <<< 0.05"
   ]
  },
  {
   "cell_type": "markdown",
   "metadata": {},
   "source": [
    "### Result\n",
    "\n",
    "p-value is much smaller than alpha(0.05). This implies that we have to reject the null hypothesis. \n",
    "Therefore, we can conclude statistically that there is difference in atleast one of the averages of different laboratories. i.e Atleast one of mean is different."
   ]
  },
  {
   "cell_type": "markdown",
   "metadata": {},
   "source": [
    "### Additional:\n",
    "\n",
    "ANOVA is an omnibus test. It does not tell us which mean is different.In order to find which mean deviates from the rest of the means, we can use the TukeyHSD Test.\n",
    "\n",
    "To do the tukeyHSD test, we need to change our dataset slightly to accomodate for the tukshey test.\n",
    "\n",
    "https://www.statology.org/tukey-test-python/#:~:text=One%20of%20the%20most%20commonly,perform%20Tukey's%20Test%20in%20Python."
   ]
  },
  {
   "cell_type": "code",
   "execution_count": 6,
   "metadata": {},
   "outputs": [
    {
     "data": {
      "text/html": [
       "<div>\n",
       "<style scoped>\n",
       "    .dataframe tbody tr th:only-of-type {\n",
       "        vertical-align: middle;\n",
       "    }\n",
       "\n",
       "    .dataframe tbody tr th {\n",
       "        vertical-align: top;\n",
       "    }\n",
       "\n",
       "    .dataframe thead th {\n",
       "        text-align: right;\n",
       "    }\n",
       "</style>\n",
       "<table border=\"1\" class=\"dataframe\">\n",
       "  <thead>\n",
       "    <tr style=\"text-align: right;\">\n",
       "      <th></th>\n",
       "      <th>score</th>\n",
       "      <th>group</th>\n",
       "    </tr>\n",
       "  </thead>\n",
       "  <tbody>\n",
       "    <tr>\n",
       "      <th>0</th>\n",
       "      <td>185.35</td>\n",
       "      <td>lab1</td>\n",
       "    </tr>\n",
       "    <tr>\n",
       "      <th>1</th>\n",
       "      <td>170.49</td>\n",
       "      <td>lab1</td>\n",
       "    </tr>\n",
       "    <tr>\n",
       "      <th>2</th>\n",
       "      <td>192.77</td>\n",
       "      <td>lab1</td>\n",
       "    </tr>\n",
       "    <tr>\n",
       "      <th>3</th>\n",
       "      <td>177.33</td>\n",
       "      <td>lab1</td>\n",
       "    </tr>\n",
       "    <tr>\n",
       "      <th>4</th>\n",
       "      <td>193.41</td>\n",
       "      <td>lab1</td>\n",
       "    </tr>\n",
       "    <tr>\n",
       "      <th>...</th>\n",
       "      <td>...</td>\n",
       "      <td>...</td>\n",
       "    </tr>\n",
       "    <tr>\n",
       "      <th>475</th>\n",
       "      <td>172.68</td>\n",
       "      <td>lab4</td>\n",
       "    </tr>\n",
       "    <tr>\n",
       "      <th>476</th>\n",
       "      <td>177.64</td>\n",
       "      <td>lab4</td>\n",
       "    </tr>\n",
       "    <tr>\n",
       "      <th>477</th>\n",
       "      <td>170.27</td>\n",
       "      <td>lab4</td>\n",
       "    </tr>\n",
       "    <tr>\n",
       "      <th>478</th>\n",
       "      <td>150.87</td>\n",
       "      <td>lab4</td>\n",
       "    </tr>\n",
       "    <tr>\n",
       "      <th>479</th>\n",
       "      <td>162.21</td>\n",
       "      <td>lab4</td>\n",
       "    </tr>\n",
       "  </tbody>\n",
       "</table>\n",
       "<p>480 rows × 2 columns</p>\n",
       "</div>"
      ],
      "text/plain": [
       "      score group\n",
       "0    185.35  lab1\n",
       "1    170.49  lab1\n",
       "2    192.77  lab1\n",
       "3    177.33  lab1\n",
       "4    193.41  lab1\n",
       "..      ...   ...\n",
       "475  172.68  lab4\n",
       "476  177.64  lab4\n",
       "477  170.27  lab4\n",
       "478  150.87  lab4\n",
       "479  162.21  lab4\n",
       "\n",
       "[480 rows x 2 columns]"
      ]
     },
     "execution_count": 6,
     "metadata": {},
     "output_type": "execute_result"
    }
   ],
   "source": [
    "import numpy as np\n",
    "df = pd.DataFrame({'score': Q2.lab1.append(Q2.lab2).append(Q2.lab3).append(Q2.lab4).reset_index(drop=True),'group': np.repeat(['lab1', 'lab2', 'lab3','lab4'], repeats=120)}) \n",
    "df"
   ]
  },
  {
   "cell_type": "code",
   "execution_count": 7,
   "metadata": {},
   "outputs": [
    {
     "name": "stdout",
     "output_type": "stream",
     "text": [
      " Multiple Comparison of Means - Tukey HSD, FWER=0.05 \n",
      "=====================================================\n",
      "group1 group2 meandiff p-adj  lower    upper   reject\n",
      "-----------------------------------------------------\n",
      "  lab1   lab2   0.5413   0.9  -4.4468   5.5294  False\n",
      "  lab1   lab3  21.5517 0.001  16.5636  26.5398   True\n",
      "  lab1   lab4 -14.6788 0.001 -19.6669  -9.6907   True\n",
      "  lab2   lab3  21.0103 0.001  16.0222  25.9984   True\n",
      "  lab2   lab4 -15.2202 0.001 -20.2083 -10.2321   True\n",
      "  lab3   lab4 -36.2305 0.001 -41.2186 -31.2424   True\n",
      "-----------------------------------------------------\n"
     ]
    }
   ],
   "source": [
    "from statsmodels.stats.multicomp import pairwise_tukeyhsd\n",
    "\n",
    "tukey = pairwise_tukeyhsd(endog=df['score'],\n",
    "                          groups=df['group'],\n",
    "                          alpha=0.05)\n",
    "\n",
    "print(tukey)"
   ]
  },
  {
   "cell_type": "markdown",
   "metadata": {},
   "source": [
    "### Tukey Result:\n",
    "\n",
    "Thus, we would conclude that there is a statistically significant difference between the means of labs:(lab1&lab3,lab1&lab4,lab2&lab3,lab2&lab4,lab3&lab4), but not a statistically significant difference between the means of labs lab1 and lab2."
   ]
  },
  {
   "cell_type": "code",
   "execution_count": null,
   "metadata": {},
   "outputs": [],
   "source": []
  }
 ],
 "metadata": {
  "kernelspec": {
   "display_name": "Python 3",
   "language": "python",
   "name": "python3"
  },
  "language_info": {
   "codemirror_mode": {
    "name": "ipython",
    "version": 3
   },
   "file_extension": ".py",
   "mimetype": "text/x-python",
   "name": "python",
   "nbconvert_exporter": "python",
   "pygments_lexer": "ipython3",
   "version": "3.8.5"
  }
 },
 "nbformat": 4,
 "nbformat_minor": 4
}
