{
 "cells": [
  {
   "cell_type": "markdown",
   "metadata": {},
   "source": [
    "# Basic Statistics_level 1 Question 22\n",
    "\n",
    "\n",
    "Q 22) Calculate the Z scores of  90% confidence interval,94% confidence interval, 60% confidence interval "
   ]
  },
  {
   "cell_type": "markdown",
   "metadata": {},
   "source": [
    "By default python calculates zscore from left. since confidence interval is centered, we need to calculate manually.\n",
    "for Eg: for Confidence Interval 60%==>\n",
    "\n",
    "100 - 60 = 40 Now take half of 40 so as to equally distribute the interval\n",
    "\n",
    "40/2 = 20. This will give the left side z score value when inserted in ppf function\n",
    "\n",
    "100 - 20 = 80 will give the right side z score value when inserted in ppf function"
   ]
  },
  {
   "cell_type": "code",
   "execution_count": 1,
   "metadata": {},
   "outputs": [],
   "source": [
    "import scipy.stats as ss"
   ]
  },
  {
   "cell_type": "code",
   "execution_count": 25,
   "metadata": {},
   "outputs": [],
   "source": [
    "def findzscore(x):\n",
    "    y=(1-x)/2\n",
    "    score = ss.norm.ppf(1-y)\n",
    "    print(score)"
   ]
  },
  {
   "cell_type": "code",
   "execution_count": 26,
   "metadata": {},
   "outputs": [
    {
     "name": "stdout",
     "output_type": "stream",
     "text": [
      "1.8807936081512509\n"
     ]
    }
   ],
   "source": [
    "findzscore(0.94)"
   ]
  },
  {
   "cell_type": "code",
   "execution_count": 23,
   "metadata": {},
   "outputs": [
    {
     "name": "stdout",
     "output_type": "stream",
     "text": [
      "0.8416212335729143\n"
     ]
    }
   ],
   "source": [
    "findzscore(0.60)"
   ]
  },
  {
   "cell_type": "code",
   "execution_count": 24,
   "metadata": {},
   "outputs": [
    {
     "name": "stdout",
     "output_type": "stream",
     "text": [
      "1.6448536269514722\n"
     ]
    }
   ],
   "source": [
    "findzscore(0.90)"
   ]
  },
  {
   "cell_type": "markdown",
   "metadata": {},
   "source": [
    "### Result: \n",
    "\n",
    "|     Confidence Interval    |     Z-Scores              |\n",
    "|----------------------------|---------------------------|\n",
    "|     60%                    |     0.8416212335729143    |\n",
    "|     94%                    |     1.8807936081512509    |\n",
    "|     90%                    |     1.6448536269514722    |"
   ]
  },
  {
   "cell_type": "code",
   "execution_count": null,
   "metadata": {},
   "outputs": [],
   "source": []
  }
 ],
 "metadata": {
  "kernelspec": {
   "display_name": "Python 3",
   "language": "python",
   "name": "python3"
  },
  "language_info": {
   "codemirror_mode": {
    "name": "ipython",
    "version": 3
   },
   "file_extension": ".py",
   "mimetype": "text/x-python",
   "name": "python",
   "nbconvert_exporter": "python",
   "pygments_lexer": "ipython3",
   "version": "3.8.5"
  }
 },
 "nbformat": 4,
 "nbformat_minor": 4
}
