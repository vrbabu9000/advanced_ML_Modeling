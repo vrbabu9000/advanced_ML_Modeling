{
 "cells": [
  {
   "cell_type": "markdown",
   "metadata": {},
   "source": [
    "# Neural Network Problem 1\n",
    "\n",
    "#### Task:\n",
    "Predict the burned area of forest fires with neural networks.\n",
    "\n",
    "#### Data description:\n",
    "- month :\tmonth of the year: 'jan' to 'dec'\n",
    "- day :\tday of the week: 'mon' to 'sun'\n",
    "- FFMC : \tFFMC index from the FWI system: 18.7 to 96.20\n",
    "- DMC : \tDMC index from the FWI system: 1.1 to 291.3\n",
    "- DC : DC index from the FWI system: 7.9 to 860.6\n",
    "- ISI : ISI index from the FWI system: 0.0 to 56.10\n",
    "- temp :\ttemperature in Celsius degrees: 2.2 to 33.30\n",
    "- RH :\trelative humidity in %: 15.0 to 100\n",
    "- wind :\twind speed in km/h: 0.40 to 9.40\n",
    "- rain :\toutside rain in mm/m2 : 0.0 to 6.4\n",
    "- size_category :\tthe burned area of the forest ( Small , Large)"
   ]
  },
  {
   "cell_type": "markdown",
   "metadata": {},
   "source": [
    "## Steps:\n",
    "\n",
    "1. Import new data set\n",
    "    - understand the dataset, look into it. \n",
    "    - perform EDA. show profiling.\n",
    "    - check data info and null values.\n",
    "2. Feature analysis\n",
    "    - understand all features involeved.\n",
    "    - list out features that needs to be considered in the model.\n",
    "    - Remove Bias in the model\n",
    "    - Split dataset train and test for NN Classification of original dataset.\n",
    "    - Viasualising the clusters\n",
    "3. Neural Network Modelling\n",
    "    - Build Model\n",
    "    - Compile Model & Fit the model\n",
    "    - Model Evaluation\n",
    "    - Visualize Training History\n",
    "4. Tuning HyperParameters\n",
    "    - GridSearch taking 2 Hyperparameters at a time\n",
    "4. Final NN Model\n",
    "    - Build Final NN Model\n",
    "    - Model Evaluation Report\n",
    "5. Conclusion"
   ]
  },
  {
   "cell_type": "markdown",
   "metadata": {},
   "source": [
    "## Import New Dataset"
   ]
  },
  {
   "cell_type": "code",
   "execution_count": 1,
   "metadata": {},
   "outputs": [],
   "source": [
    "#load the libraries\n",
    "import pandas as pd\n",
    "import numpy as np\n",
    "from sklearn.model_selection import train_test_split, cross_val_score\n",
    "import seaborn as sns\n",
    "from matplotlib import pyplot as plt\n",
    "from sklearn.decomposition import PCA\n",
    "import tensorflow as tf\n",
    "tf.debugging.set_log_device_placement(False) \n",
    "import warnings\n",
    "warnings.filterwarnings('ignore')"
   ]
  },
  {
   "cell_type": "code",
   "execution_count": 2,
   "metadata": {},
   "outputs": [],
   "source": [
    "# Generating reproducible results from same code\n",
    "tf.random.set_seed(14)  #Reference: https://www.youtube.com/watch?v=4ZhnXxfW8WQ&list=LL&index=1&t=1743s"
   ]
  },
  {
   "cell_type": "code",
   "execution_count": 3,
   "metadata": {
    "scrolled": true
   },
   "outputs": [
    {
     "data": {
      "text/html": [
       "<div>\n",
       "<style scoped>\n",
       "    .dataframe tbody tr th:only-of-type {\n",
       "        vertical-align: middle;\n",
       "    }\n",
       "\n",
       "    .dataframe tbody tr th {\n",
       "        vertical-align: top;\n",
       "    }\n",
       "\n",
       "    .dataframe thead th {\n",
       "        text-align: right;\n",
       "    }\n",
       "</style>\n",
       "<table border=\"1\" class=\"dataframe\">\n",
       "  <thead>\n",
       "    <tr style=\"text-align: right;\">\n",
       "      <th></th>\n",
       "      <th>month</th>\n",
       "      <th>day</th>\n",
       "      <th>FFMC</th>\n",
       "      <th>DMC</th>\n",
       "      <th>DC</th>\n",
       "      <th>ISI</th>\n",
       "      <th>temp</th>\n",
       "      <th>RH</th>\n",
       "      <th>wind</th>\n",
       "      <th>rain</th>\n",
       "      <th>...</th>\n",
       "      <th>monthfeb</th>\n",
       "      <th>monthjan</th>\n",
       "      <th>monthjul</th>\n",
       "      <th>monthjun</th>\n",
       "      <th>monthmar</th>\n",
       "      <th>monthmay</th>\n",
       "      <th>monthnov</th>\n",
       "      <th>monthoct</th>\n",
       "      <th>monthsep</th>\n",
       "      <th>size_category</th>\n",
       "    </tr>\n",
       "  </thead>\n",
       "  <tbody>\n",
       "    <tr>\n",
       "      <th>0</th>\n",
       "      <td>mar</td>\n",
       "      <td>fri</td>\n",
       "      <td>86.2</td>\n",
       "      <td>26.2</td>\n",
       "      <td>94.3</td>\n",
       "      <td>5.1</td>\n",
       "      <td>8.2</td>\n",
       "      <td>51</td>\n",
       "      <td>6.7</td>\n",
       "      <td>0.0</td>\n",
       "      <td>...</td>\n",
       "      <td>0</td>\n",
       "      <td>0</td>\n",
       "      <td>0</td>\n",
       "      <td>0</td>\n",
       "      <td>1</td>\n",
       "      <td>0</td>\n",
       "      <td>0</td>\n",
       "      <td>0</td>\n",
       "      <td>0</td>\n",
       "      <td>small</td>\n",
       "    </tr>\n",
       "    <tr>\n",
       "      <th>1</th>\n",
       "      <td>oct</td>\n",
       "      <td>tue</td>\n",
       "      <td>90.6</td>\n",
       "      <td>35.4</td>\n",
       "      <td>669.1</td>\n",
       "      <td>6.7</td>\n",
       "      <td>18.0</td>\n",
       "      <td>33</td>\n",
       "      <td>0.9</td>\n",
       "      <td>0.0</td>\n",
       "      <td>...</td>\n",
       "      <td>0</td>\n",
       "      <td>0</td>\n",
       "      <td>0</td>\n",
       "      <td>0</td>\n",
       "      <td>0</td>\n",
       "      <td>0</td>\n",
       "      <td>0</td>\n",
       "      <td>1</td>\n",
       "      <td>0</td>\n",
       "      <td>small</td>\n",
       "    </tr>\n",
       "    <tr>\n",
       "      <th>2</th>\n",
       "      <td>oct</td>\n",
       "      <td>sat</td>\n",
       "      <td>90.6</td>\n",
       "      <td>43.7</td>\n",
       "      <td>686.9</td>\n",
       "      <td>6.7</td>\n",
       "      <td>14.6</td>\n",
       "      <td>33</td>\n",
       "      <td>1.3</td>\n",
       "      <td>0.0</td>\n",
       "      <td>...</td>\n",
       "      <td>0</td>\n",
       "      <td>0</td>\n",
       "      <td>0</td>\n",
       "      <td>0</td>\n",
       "      <td>0</td>\n",
       "      <td>0</td>\n",
       "      <td>0</td>\n",
       "      <td>1</td>\n",
       "      <td>0</td>\n",
       "      <td>small</td>\n",
       "    </tr>\n",
       "    <tr>\n",
       "      <th>3</th>\n",
       "      <td>mar</td>\n",
       "      <td>fri</td>\n",
       "      <td>91.7</td>\n",
       "      <td>33.3</td>\n",
       "      <td>77.5</td>\n",
       "      <td>9.0</td>\n",
       "      <td>8.3</td>\n",
       "      <td>97</td>\n",
       "      <td>4.0</td>\n",
       "      <td>0.2</td>\n",
       "      <td>...</td>\n",
       "      <td>0</td>\n",
       "      <td>0</td>\n",
       "      <td>0</td>\n",
       "      <td>0</td>\n",
       "      <td>1</td>\n",
       "      <td>0</td>\n",
       "      <td>0</td>\n",
       "      <td>0</td>\n",
       "      <td>0</td>\n",
       "      <td>small</td>\n",
       "    </tr>\n",
       "    <tr>\n",
       "      <th>4</th>\n",
       "      <td>mar</td>\n",
       "      <td>sun</td>\n",
       "      <td>89.3</td>\n",
       "      <td>51.3</td>\n",
       "      <td>102.2</td>\n",
       "      <td>9.6</td>\n",
       "      <td>11.4</td>\n",
       "      <td>99</td>\n",
       "      <td>1.8</td>\n",
       "      <td>0.0</td>\n",
       "      <td>...</td>\n",
       "      <td>0</td>\n",
       "      <td>0</td>\n",
       "      <td>0</td>\n",
       "      <td>0</td>\n",
       "      <td>1</td>\n",
       "      <td>0</td>\n",
       "      <td>0</td>\n",
       "      <td>0</td>\n",
       "      <td>0</td>\n",
       "      <td>small</td>\n",
       "    </tr>\n",
       "  </tbody>\n",
       "</table>\n",
       "<p>5 rows × 31 columns</p>\n",
       "</div>"
      ],
      "text/plain": [
       "  month  day  FFMC   DMC     DC  ISI  temp  RH  wind  rain  ...  monthfeb  \\\n",
       "0   mar  fri  86.2  26.2   94.3  5.1   8.2  51   6.7   0.0  ...         0   \n",
       "1   oct  tue  90.6  35.4  669.1  6.7  18.0  33   0.9   0.0  ...         0   \n",
       "2   oct  sat  90.6  43.7  686.9  6.7  14.6  33   1.3   0.0  ...         0   \n",
       "3   mar  fri  91.7  33.3   77.5  9.0   8.3  97   4.0   0.2  ...         0   \n",
       "4   mar  sun  89.3  51.3  102.2  9.6  11.4  99   1.8   0.0  ...         0   \n",
       "\n",
       "   monthjan  monthjul  monthjun  monthmar  monthmay  monthnov  monthoct  \\\n",
       "0         0         0         0         1         0         0         0   \n",
       "1         0         0         0         0         0         0         1   \n",
       "2         0         0         0         0         0         0         1   \n",
       "3         0         0         0         1         0         0         0   \n",
       "4         0         0         0         1         0         0         0   \n",
       "\n",
       "   monthsep  size_category  \n",
       "0         0          small  \n",
       "1         0          small  \n",
       "2         0          small  \n",
       "3         0          small  \n",
       "4         0          small  \n",
       "\n",
       "[5 rows x 31 columns]"
      ]
     },
     "execution_count": 3,
     "metadata": {},
     "output_type": "execute_result"
    }
   ],
   "source": [
    "raw_data = pd.read_csv(\"C:\\\\Users\\\\Vignesh R Babu\\\\excelR-datascience\\\\assignment_16_Neural_Networks\\\\16Q1\\\\forestfires.csv\")\n",
    "raw_data.head() \n",
    "#Dummy variables are also created in this process. However we do not require them since we can use label encoding."
   ]
  },
  {
   "cell_type": "code",
   "execution_count": 4,
   "metadata": {},
   "outputs": [],
   "source": [
    "df = raw_data.copy() #Removing the dummies at this time\n",
    "df.drop(df.columns[11:30],axis=1,inplace = True)"
   ]
  },
  {
   "cell_type": "code",
   "execution_count": 5,
   "metadata": {
    "scrolled": true
   },
   "outputs": [
    {
     "name": "stdout",
     "output_type": "stream",
     "text": [
      "<class 'pandas.core.frame.DataFrame'>\n",
      "RangeIndex: 517 entries, 0 to 516\n",
      "Data columns (total 12 columns):\n",
      " #   Column         Non-Null Count  Dtype  \n",
      "---  ------         --------------  -----  \n",
      " 0   month          517 non-null    object \n",
      " 1   day            517 non-null    object \n",
      " 2   FFMC           517 non-null    float64\n",
      " 3   DMC            517 non-null    float64\n",
      " 4   DC             517 non-null    float64\n",
      " 5   ISI            517 non-null    float64\n",
      " 6   temp           517 non-null    float64\n",
      " 7   RH             517 non-null    int64  \n",
      " 8   wind           517 non-null    float64\n",
      " 9   rain           517 non-null    float64\n",
      " 10  area           517 non-null    float64\n",
      " 11  size_category  517 non-null    object \n",
      "dtypes: float64(8), int64(1), object(3)\n",
      "memory usage: 48.6+ KB\n"
     ]
    }
   ],
   "source": [
    "df.info() #No null values"
   ]
  },
  {
   "cell_type": "code",
   "execution_count": 6,
   "metadata": {},
   "outputs": [
    {
     "data": {
      "text/html": [
       "<div>\n",
       "<style scoped>\n",
       "    .dataframe tbody tr th:only-of-type {\n",
       "        vertical-align: middle;\n",
       "    }\n",
       "\n",
       "    .dataframe tbody tr th {\n",
       "        vertical-align: top;\n",
       "    }\n",
       "\n",
       "    .dataframe thead th {\n",
       "        text-align: right;\n",
       "    }\n",
       "</style>\n",
       "<table border=\"1\" class=\"dataframe\">\n",
       "  <thead>\n",
       "    <tr style=\"text-align: right;\">\n",
       "      <th></th>\n",
       "      <th>FFMC</th>\n",
       "      <th>DMC</th>\n",
       "      <th>DC</th>\n",
       "      <th>ISI</th>\n",
       "      <th>temp</th>\n",
       "      <th>RH</th>\n",
       "      <th>wind</th>\n",
       "      <th>rain</th>\n",
       "      <th>area</th>\n",
       "    </tr>\n",
       "  </thead>\n",
       "  <tbody>\n",
       "    <tr>\n",
       "      <th>count</th>\n",
       "      <td>517.000000</td>\n",
       "      <td>517.000000</td>\n",
       "      <td>517.000000</td>\n",
       "      <td>517.000000</td>\n",
       "      <td>517.000000</td>\n",
       "      <td>517.000000</td>\n",
       "      <td>517.000000</td>\n",
       "      <td>517.000000</td>\n",
       "      <td>517.000000</td>\n",
       "    </tr>\n",
       "    <tr>\n",
       "      <th>mean</th>\n",
       "      <td>90.644681</td>\n",
       "      <td>110.872340</td>\n",
       "      <td>547.940039</td>\n",
       "      <td>9.021663</td>\n",
       "      <td>18.889168</td>\n",
       "      <td>44.288201</td>\n",
       "      <td>4.017602</td>\n",
       "      <td>0.021663</td>\n",
       "      <td>12.847292</td>\n",
       "    </tr>\n",
       "    <tr>\n",
       "      <th>std</th>\n",
       "      <td>5.520111</td>\n",
       "      <td>64.046482</td>\n",
       "      <td>248.066192</td>\n",
       "      <td>4.559477</td>\n",
       "      <td>5.806625</td>\n",
       "      <td>16.317469</td>\n",
       "      <td>1.791653</td>\n",
       "      <td>0.295959</td>\n",
       "      <td>63.655818</td>\n",
       "    </tr>\n",
       "    <tr>\n",
       "      <th>min</th>\n",
       "      <td>18.700000</td>\n",
       "      <td>1.100000</td>\n",
       "      <td>7.900000</td>\n",
       "      <td>0.000000</td>\n",
       "      <td>2.200000</td>\n",
       "      <td>15.000000</td>\n",
       "      <td>0.400000</td>\n",
       "      <td>0.000000</td>\n",
       "      <td>0.000000</td>\n",
       "    </tr>\n",
       "    <tr>\n",
       "      <th>25%</th>\n",
       "      <td>90.200000</td>\n",
       "      <td>68.600000</td>\n",
       "      <td>437.700000</td>\n",
       "      <td>6.500000</td>\n",
       "      <td>15.500000</td>\n",
       "      <td>33.000000</td>\n",
       "      <td>2.700000</td>\n",
       "      <td>0.000000</td>\n",
       "      <td>0.000000</td>\n",
       "    </tr>\n",
       "    <tr>\n",
       "      <th>50%</th>\n",
       "      <td>91.600000</td>\n",
       "      <td>108.300000</td>\n",
       "      <td>664.200000</td>\n",
       "      <td>8.400000</td>\n",
       "      <td>19.300000</td>\n",
       "      <td>42.000000</td>\n",
       "      <td>4.000000</td>\n",
       "      <td>0.000000</td>\n",
       "      <td>0.520000</td>\n",
       "    </tr>\n",
       "    <tr>\n",
       "      <th>75%</th>\n",
       "      <td>92.900000</td>\n",
       "      <td>142.400000</td>\n",
       "      <td>713.900000</td>\n",
       "      <td>10.800000</td>\n",
       "      <td>22.800000</td>\n",
       "      <td>53.000000</td>\n",
       "      <td>4.900000</td>\n",
       "      <td>0.000000</td>\n",
       "      <td>6.570000</td>\n",
       "    </tr>\n",
       "    <tr>\n",
       "      <th>max</th>\n",
       "      <td>96.200000</td>\n",
       "      <td>291.300000</td>\n",
       "      <td>860.600000</td>\n",
       "      <td>56.100000</td>\n",
       "      <td>33.300000</td>\n",
       "      <td>100.000000</td>\n",
       "      <td>9.400000</td>\n",
       "      <td>6.400000</td>\n",
       "      <td>1090.840000</td>\n",
       "    </tr>\n",
       "  </tbody>\n",
       "</table>\n",
       "</div>"
      ],
      "text/plain": [
       "             FFMC         DMC          DC         ISI        temp          RH  \\\n",
       "count  517.000000  517.000000  517.000000  517.000000  517.000000  517.000000   \n",
       "mean    90.644681  110.872340  547.940039    9.021663   18.889168   44.288201   \n",
       "std      5.520111   64.046482  248.066192    4.559477    5.806625   16.317469   \n",
       "min     18.700000    1.100000    7.900000    0.000000    2.200000   15.000000   \n",
       "25%     90.200000   68.600000  437.700000    6.500000   15.500000   33.000000   \n",
       "50%     91.600000  108.300000  664.200000    8.400000   19.300000   42.000000   \n",
       "75%     92.900000  142.400000  713.900000   10.800000   22.800000   53.000000   \n",
       "max     96.200000  291.300000  860.600000   56.100000   33.300000  100.000000   \n",
       "\n",
       "             wind        rain         area  \n",
       "count  517.000000  517.000000   517.000000  \n",
       "mean     4.017602    0.021663    12.847292  \n",
       "std      1.791653    0.295959    63.655818  \n",
       "min      0.400000    0.000000     0.000000  \n",
       "25%      2.700000    0.000000     0.000000  \n",
       "50%      4.000000    0.000000     0.520000  \n",
       "75%      4.900000    0.000000     6.570000  \n",
       "max      9.400000    6.400000  1090.840000  "
      ]
     },
     "execution_count": 6,
     "metadata": {},
     "output_type": "execute_result"
    }
   ],
   "source": [
    "df.describe()"
   ]
  },
  {
   "cell_type": "code",
   "execution_count": 7,
   "metadata": {},
   "outputs": [
    {
     "data": {
      "text/plain": [
       "<AxesSubplot:>"
      ]
     },
     "execution_count": 7,
     "metadata": {},
     "output_type": "execute_result"
    },
    {
     "data": {
      "image/png": "[encoded data removed]",
      "text/plain": [
       "<Figure size 1440x360 with 1 Axes>"
      ]
     },
     "metadata": {},
     "output_type": "display_data"
    }
   ],
   "source": [
    "sns.set(rc={'figure.figsize':(20,5)})\n",
    "sns.boxplot(data=df, orient=\"v\", palette=\"Set2\") \n",
    "#There are outliers in the case of area. But we cannot discard it"
   ]
  },
  {
   "cell_type": "markdown",
   "metadata": {},
   "source": [
    "## Feature Analysis\n",
    "\n",
    "All features in the dataset can be used in model building. "
   ]
  },
  {
   "cell_type": "code",
   "execution_count": 8,
   "metadata": {
    "scrolled": true
   },
   "outputs": [
    {
     "data": {
      "text/plain": [
       "aug    184\n",
       "sep    172\n",
       "mar     54\n",
       "jul     32\n",
       "feb     20\n",
       "jun     17\n",
       "oct     15\n",
       "apr      9\n",
       "dec      9\n",
       "jan      2\n",
       "may      2\n",
       "nov      1\n",
       "Name: month, dtype: int64"
      ]
     },
     "execution_count": 8,
     "metadata": {},
     "output_type": "execute_result"
    }
   ],
   "source": [
    "df.month.value_counts()"
   ]
  },
  {
   "cell_type": "code",
   "execution_count": 9,
   "metadata": {
    "scrolled": false
   },
   "outputs": [
    {
     "data": {
      "text/plain": [
       "small    378\n",
       "large    139\n",
       "Name: size_category, dtype: int64"
      ]
     },
     "execution_count": 9,
     "metadata": {},
     "output_type": "execute_result"
    }
   ],
   "source": [
    "df.size_category.value_counts() # The dataset is biased. Lets remove the bias."
   ]
  },
  {
   "cell_type": "code",
   "execution_count": 10,
   "metadata": {},
   "outputs": [
    {
     "data": {
      "text/html": [
       "<div>\n",
       "<style scoped>\n",
       "    .dataframe tbody tr th:only-of-type {\n",
       "        vertical-align: middle;\n",
       "    }\n",
       "\n",
       "    .dataframe tbody tr th {\n",
       "        vertical-align: top;\n",
       "    }\n",
       "\n",
       "    .dataframe thead th {\n",
       "        text-align: right;\n",
       "    }\n",
       "</style>\n",
       "<table border=\"1\" class=\"dataframe\">\n",
       "  <thead>\n",
       "    <tr style=\"text-align: right;\">\n",
       "      <th></th>\n",
       "      <th>month</th>\n",
       "      <th>day</th>\n",
       "      <th>FFMC</th>\n",
       "      <th>DMC</th>\n",
       "      <th>DC</th>\n",
       "      <th>ISI</th>\n",
       "      <th>temp</th>\n",
       "      <th>RH</th>\n",
       "      <th>wind</th>\n",
       "      <th>rain</th>\n",
       "      <th>area</th>\n",
       "      <th>size_category</th>\n",
       "    </tr>\n",
       "  </thead>\n",
       "  <tbody>\n",
       "    <tr>\n",
       "      <th>0</th>\n",
       "      <td>7</td>\n",
       "      <td>0</td>\n",
       "      <td>86.2</td>\n",
       "      <td>26.2</td>\n",
       "      <td>94.3</td>\n",
       "      <td>5.1</td>\n",
       "      <td>8.2</td>\n",
       "      <td>51</td>\n",
       "      <td>6.7</td>\n",
       "      <td>0.0</td>\n",
       "      <td>0.0</td>\n",
       "      <td>1</td>\n",
       "    </tr>\n",
       "    <tr>\n",
       "      <th>1</th>\n",
       "      <td>10</td>\n",
       "      <td>5</td>\n",
       "      <td>90.6</td>\n",
       "      <td>35.4</td>\n",
       "      <td>669.1</td>\n",
       "      <td>6.7</td>\n",
       "      <td>18.0</td>\n",
       "      <td>33</td>\n",
       "      <td>0.9</td>\n",
       "      <td>0.0</td>\n",
       "      <td>0.0</td>\n",
       "      <td>1</td>\n",
       "    </tr>\n",
       "    <tr>\n",
       "      <th>2</th>\n",
       "      <td>10</td>\n",
       "      <td>2</td>\n",
       "      <td>90.6</td>\n",
       "      <td>43.7</td>\n",
       "      <td>686.9</td>\n",
       "      <td>6.7</td>\n",
       "      <td>14.6</td>\n",
       "      <td>33</td>\n",
       "      <td>1.3</td>\n",
       "      <td>0.0</td>\n",
       "      <td>0.0</td>\n",
       "      <td>1</td>\n",
       "    </tr>\n",
       "    <tr>\n",
       "      <th>3</th>\n",
       "      <td>7</td>\n",
       "      <td>0</td>\n",
       "      <td>91.7</td>\n",
       "      <td>33.3</td>\n",
       "      <td>77.5</td>\n",
       "      <td>9.0</td>\n",
       "      <td>8.3</td>\n",
       "      <td>97</td>\n",
       "      <td>4.0</td>\n",
       "      <td>0.2</td>\n",
       "      <td>0.0</td>\n",
       "      <td>1</td>\n",
       "    </tr>\n",
       "    <tr>\n",
       "      <th>4</th>\n",
       "      <td>7</td>\n",
       "      <td>3</td>\n",
       "      <td>89.3</td>\n",
       "      <td>51.3</td>\n",
       "      <td>102.2</td>\n",
       "      <td>9.6</td>\n",
       "      <td>11.4</td>\n",
       "      <td>99</td>\n",
       "      <td>1.8</td>\n",
       "      <td>0.0</td>\n",
       "      <td>0.0</td>\n",
       "      <td>1</td>\n",
       "    </tr>\n",
       "  </tbody>\n",
       "</table>\n",
       "</div>"
      ],
      "text/plain": [
       "   month  day  FFMC   DMC     DC  ISI  temp  RH  wind  rain  area  \\\n",
       "0      7    0  86.2  26.2   94.3  5.1   8.2  51   6.7   0.0   0.0   \n",
       "1     10    5  90.6  35.4  669.1  6.7  18.0  33   0.9   0.0   0.0   \n",
       "2     10    2  90.6  43.7  686.9  6.7  14.6  33   1.3   0.0   0.0   \n",
       "3      7    0  91.7  33.3   77.5  9.0   8.3  97   4.0   0.2   0.0   \n",
       "4      7    3  89.3  51.3  102.2  9.6  11.4  99   1.8   0.0   0.0   \n",
       "\n",
       "   size_category  \n",
       "0              1  \n",
       "1              1  \n",
       "2              1  \n",
       "3              1  \n",
       "4              1  "
      ]
     },
     "execution_count": 10,
     "metadata": {},
     "output_type": "execute_result"
    }
   ],
   "source": [
    "#We are going to perform label encoding since it is faster than dummy variables\n",
    "\n",
    "from sklearn import preprocessing\n",
    "label_encoder = preprocessing.LabelEncoder()\n",
    "df.month= label_encoder.fit_transform(df.month) \n",
    "df.day= label_encoder.fit_transform(df.day) \n",
    "df.size_category= label_encoder.fit_transform(df.size_category) \n",
    "df.head()"
   ]
  },
  {
   "cell_type": "markdown",
   "metadata": {},
   "source": [
    "### Removing Bias in the Dataset"
   ]
  },
  {
   "cell_type": "code",
   "execution_count": 11,
   "metadata": {
    "scrolled": false
   },
   "outputs": [
    {
     "name": "stdout",
     "output_type": "stream",
     "text": [
      "Counter({1: 378, 0: 139})\n",
      "Counter({1: 374, 0: 374})\n"
     ]
    }
   ],
   "source": [
    "from imblearn.combine import SMOTETomek\n",
    "from collections import Counter\n",
    "\n",
    "resamp = df.copy()\n",
    "#SMOTEK TECHNIQUE\n",
    "\n",
    "#Define dataset\n",
    "a = resamp.iloc[:,:-1]\n",
    "b = resamp.iloc[:,-1]\n",
    "\n",
    "#Count before\n",
    "print(Counter(b))\n",
    "\n",
    "smt = SMOTETomek(sampling_strategy = 'auto')\n",
    "a, b = smt.fit_resample(a, b)\n",
    "\n",
    "#Count after\n",
    "print(Counter(b)) #removed bias in dataset"
   ]
  },
  {
   "cell_type": "markdown",
   "metadata": {},
   "source": [
    "### Train | Split dataset\n",
    "#### Original Dataset"
   ]
  },
  {
   "cell_type": "code",
   "execution_count": 12,
   "metadata": {},
   "outputs": [],
   "source": [
    "X = a\n",
    "Y = b\n",
    "X_train, X_test, y_train, y_test = train_test_split(X,Y, test_size = 0.3)"
   ]
  },
  {
   "cell_type": "markdown",
   "metadata": {},
   "source": [
    "### Visualizing the data"
   ]
  },
  {
   "cell_type": "code",
   "execution_count": 13,
   "metadata": {
    "scrolled": true
   },
   "outputs": [
    {
     "data": {
      "text/plain": [
       "Text(0.5, 1.0, 'T-Sine Visualization of forest-fire dataset')"
      ]
     },
     "execution_count": 13,
     "metadata": {},
     "output_type": "execute_result"
    },
    {
     "data": {
      "image/png": "[encoded data removed]",
      "text/plain": [
       "<Figure size 1440x360 with 1 Axes>"
      ]
     },
     "metadata": {},
     "output_type": "display_data"
    }
   ],
   "source": [
    "#Visualising the data via dimensionality reduction t-Sine Technique\n",
    "from sklearn.manifold import TSNE\n",
    "\n",
    "data_tsne_pca = TSNE(n_components=2).fit_transform(a)\n",
    "sns.scatterplot(data_tsne_pca[:,0],data_tsne_pca[:,1],hue=b, palette=\"deep\").set_title('T-Sine Visualization of forest-fire dataset')"
   ]
  },
  {
   "cell_type": "markdown",
   "metadata": {},
   "source": [
    "## Neural Network Modelling\n",
    "#### Building the Model"
   ]
  },
  {
   "cell_type": "code",
   "execution_count": 14,
   "metadata": {},
   "outputs": [],
   "source": [
    "import keras \n",
    "from keras.models import Sequential\n",
    "from keras.layers import Dense"
   ]
  },
  {
   "cell_type": "code",
   "execution_count": 15,
   "metadata": {},
   "outputs": [
    {
     "data": {
      "text/plain": [
       "'2.4.3'"
      ]
     },
     "execution_count": 15,
     "metadata": {},
     "output_type": "execute_result"
    }
   ],
   "source": [
    "import keras\n",
    "keras. __version__ #init method is not available in this mdethod"
   ]
  },
  {
   "cell_type": "code",
   "execution_count": 16,
   "metadata": {},
   "outputs": [],
   "source": [
    "# create model\n",
    "model1 = Sequential()\n",
    "model1.add(Dense(14, input_dim=11, kernel_initializer='uniform', activation='relu'))\n",
    "model1.add(Dense(12,kernel_initializer='uniform', activation='relu'))\n",
    "model1.add(Dense(1, kernel_initializer='uniform', activation='sigmoid'))"
   ]
  },
  {
   "cell_type": "code",
   "execution_count": 17,
   "metadata": {},
   "outputs": [],
   "source": [
    "# Compile model\n",
    "model1.compile(loss='binary_crossentropy', optimizer='adam', metrics=['accuracy'])"
   ]
  },
  {
   "cell_type": "code",
   "execution_count": 18,
   "metadata": {
    "scrolled": true
   },
   "outputs": [
    {
     "name": "stdout",
     "output_type": "stream",
     "text": [
      "Epoch 1/30\n",
      "35/35 [==============================] - 0s 6ms/step - loss: 0.6932 - accuracy: 0.5057 - val_loss: 0.6919 - val_accuracy: 0.4740\n",
      "Epoch 2/30\n",
      "35/35 [==============================] - 0s 2ms/step - loss: 0.6858 - accuracy: 0.6143 - val_loss: 0.6773 - val_accuracy: 0.6647\n",
      "Epoch 3/30\n",
      "35/35 [==============================] - 0s 2ms/step - loss: 0.6668 - accuracy: 0.6543 - val_loss: 0.6437 - val_accuracy: 0.6705\n",
      "Epoch 4/30\n",
      "35/35 [==============================] - 0s 2ms/step - loss: 0.6097 - accuracy: 0.7314 - val_loss: 0.5847 - val_accuracy: 0.8266\n",
      "Epoch 5/30\n",
      "35/35 [==============================] - 0s 3ms/step - loss: 0.5501 - accuracy: 0.7143 - val_loss: 0.5769 - val_accuracy: 0.5896\n",
      "Epoch 6/30\n",
      "35/35 [==============================] - 0s 3ms/step - loss: 0.4440 - accuracy: 0.8257 - val_loss: 0.4529 - val_accuracy: 0.8324\n",
      "Epoch 7/30\n",
      "35/35 [==============================] - 0s 3ms/step - loss: 0.3543 - accuracy: 0.8971 - val_loss: 0.3178 - val_accuracy: 0.8613\n",
      "Epoch 8/30\n",
      "35/35 [==============================] - 0s 3ms/step - loss: 0.2525 - accuracy: 0.9400 - val_loss: 0.2398 - val_accuracy: 0.9249\n",
      "Epoch 9/30\n",
      "35/35 [==============================] - 0s 2ms/step - loss: 0.1819 - accuracy: 0.9629 - val_loss: 0.1905 - val_accuracy: 0.9249\n",
      "Epoch 10/30\n",
      "35/35 [==============================] - 0s 2ms/step - loss: 0.1755 - accuracy: 0.9514 - val_loss: 0.1526 - val_accuracy: 0.9422\n",
      "Epoch 11/30\n",
      "35/35 [==============================] - 0s 2ms/step - loss: 0.1306 - accuracy: 0.9600 - val_loss: 0.1340 - val_accuracy: 0.9769\n",
      "Epoch 12/30\n",
      "35/35 [==============================] - 0s 2ms/step - loss: 0.1233 - accuracy: 0.9543 - val_loss: 0.1127 - val_accuracy: 0.9827\n",
      "Epoch 13/30\n",
      "35/35 [==============================] - 0s 2ms/step - loss: 0.0744 - accuracy: 0.9857 - val_loss: 0.1160 - val_accuracy: 0.9711\n",
      "Epoch 14/30\n",
      "35/35 [==============================] - 0s 2ms/step - loss: 0.0836 - accuracy: 0.9800 - val_loss: 0.1181 - val_accuracy: 0.9422\n",
      "Epoch 15/30\n",
      "35/35 [==============================] - 0s 3ms/step - loss: 0.0541 - accuracy: 0.9943 - val_loss: 0.1421 - val_accuracy: 0.9191\n",
      "Epoch 16/30\n",
      "35/35 [==============================] - 0s 2ms/step - loss: 0.0490 - accuracy: 0.9914 - val_loss: 0.0766 - val_accuracy: 0.9827\n",
      "Epoch 17/30\n",
      "35/35 [==============================] - 0s 2ms/step - loss: 0.0516 - accuracy: 0.9886 - val_loss: 0.0822 - val_accuracy: 0.9711\n",
      "Epoch 18/30\n",
      "35/35 [==============================] - 0s 2ms/step - loss: 0.0873 - accuracy: 0.9600 - val_loss: 0.1216 - val_accuracy: 0.9480\n",
      "Epoch 19/30\n",
      "35/35 [==============================] - 0s 3ms/step - loss: 0.0480 - accuracy: 0.9914 - val_loss: 0.0918 - val_accuracy: 0.9595\n",
      "Epoch 20/30\n",
      "35/35 [==============================] - 0s 5ms/step - loss: 0.0491 - accuracy: 0.9829 - val_loss: 0.0697 - val_accuracy: 0.9711\n",
      "Epoch 21/30\n",
      "35/35 [==============================] - 0s 4ms/step - loss: 0.0654 - accuracy: 0.9714 - val_loss: 0.0708 - val_accuracy: 0.9769\n",
      "Epoch 22/30\n",
      "35/35 [==============================] - 0s 5ms/step - loss: 0.0820 - accuracy: 0.9657 - val_loss: 0.0864 - val_accuracy: 0.9653\n",
      "Epoch 23/30\n",
      "35/35 [==============================] - 0s 5ms/step - loss: 0.0428 - accuracy: 0.9857 - val_loss: 0.0649 - val_accuracy: 0.9711\n",
      "Epoch 24/30\n",
      "35/35 [==============================] - 0s 4ms/step - loss: 0.0389 - accuracy: 0.9857 - val_loss: 0.0585 - val_accuracy: 0.9827\n",
      "Epoch 25/30\n",
      "35/35 [==============================] - 0s 5ms/step - loss: 0.0506 - accuracy: 0.9771 - val_loss: 0.0707 - val_accuracy: 0.9711\n",
      "Epoch 26/30\n",
      "35/35 [==============================] - 0s 4ms/step - loss: 0.0316 - accuracy: 0.9886 - val_loss: 0.0580 - val_accuracy: 0.9827\n",
      "Epoch 27/30\n",
      "35/35 [==============================] - 0s 4ms/step - loss: 0.0242 - accuracy: 0.9943 - val_loss: 0.0698 - val_accuracy: 0.9711\n",
      "Epoch 28/30\n",
      "35/35 [==============================] - 0s 5ms/step - loss: 0.0312 - accuracy: 0.9943 - val_loss: 0.0588 - val_accuracy: 0.9827\n",
      "Epoch 29/30\n",
      "35/35 [==============================] - 0s 4ms/step - loss: 0.0230 - accuracy: 0.9914 - val_loss: 0.0574 - val_accuracy: 0.9769\n",
      "Epoch 30/30\n",
      "35/35 [==============================] - 0s 4ms/step - loss: 0.0328 - accuracy: 0.9886 - val_loss: 0.1029 - val_accuracy: 0.9538\n"
     ]
    }
   ],
   "source": [
    "# Fit the model\n",
    "hist1 = model1.fit(X_train, y_train, validation_split=0.33, epochs=30, batch_size=10)\n",
    "#At epoch 25 itself our model reaches accuracy of 98% which maybe overfitting"
   ]
  },
  {
   "cell_type": "code",
   "execution_count": 19,
   "metadata": {},
   "outputs": [
    {
     "name": "stdout",
     "output_type": "stream",
     "text": [
      "Model: \"sequential\"\n",
      "_________________________________________________________________\n",
      "Layer (type)                 Output Shape              Param #   \n",
      "=================================================================\n",
      "dense (Dense)                (None, 14)                168       \n",
      "_________________________________________________________________\n",
      "dense_1 (Dense)              (None, 12)                180       \n",
      "_________________________________________________________________\n",
      "dense_2 (Dense)              (None, 1)                 13        \n",
      "=================================================================\n",
      "Total params: 361\n",
      "Trainable params: 361\n",
      "Non-trainable params: 0\n",
      "_________________________________________________________________\n"
     ]
    }
   ],
   "source": [
    "model1.summary() "
   ]
  },
  {
   "cell_type": "markdown",
   "metadata": {},
   "source": [
    "#### Model Evaluation"
   ]
  },
  {
   "cell_type": "code",
   "execution_count": 20,
   "metadata": {
    "scrolled": false
   },
   "outputs": [
    {
     "name": "stdout",
     "output_type": "stream",
     "text": [
      "8/8 [==============================] - 0s 2ms/step - loss: 0.0946 - accuracy: 0.9511\n"
     ]
    }
   ],
   "source": [
    "test_loss, test_acc = model1.evaluate(X_test, y_test)"
   ]
  },
  {
   "cell_type": "code",
   "execution_count": 21,
   "metadata": {},
   "outputs": [
    {
     "name": "stdout",
     "output_type": "stream",
     "text": [
      "dict_keys(['loss', 'accuracy', 'val_loss', 'val_accuracy'])\n"
     ]
    }
   ],
   "source": [
    "print(hist1.history.keys())"
   ]
  },
  {
   "cell_type": "code",
   "execution_count": 22,
   "metadata": {},
   "outputs": [
    {
     "data": {
      "text/html": [
       "<div>\n",
       "<style scoped>\n",
       "    .dataframe tbody tr th:only-of-type {\n",
       "        vertical-align: middle;\n",
       "    }\n",
       "\n",
       "    .dataframe tbody tr th {\n",
       "        vertical-align: top;\n",
       "    }\n",
       "\n",
       "    .dataframe thead th {\n",
       "        text-align: right;\n",
       "    }\n",
       "</style>\n",
       "<table border=\"1\" class=\"dataframe\">\n",
       "  <thead>\n",
       "    <tr style=\"text-align: right;\">\n",
       "      <th></th>\n",
       "      <th>loss</th>\n",
       "      <th>accuracy</th>\n",
       "      <th>val_loss</th>\n",
       "      <th>val_accuracy</th>\n",
       "      <th>epoch</th>\n",
       "    </tr>\n",
       "  </thead>\n",
       "  <tbody>\n",
       "    <tr>\n",
       "      <th>25</th>\n",
       "      <td>0.031569</td>\n",
       "      <td>0.988571</td>\n",
       "      <td>0.058044</td>\n",
       "      <td>0.982659</td>\n",
       "      <td>25</td>\n",
       "    </tr>\n",
       "    <tr>\n",
       "      <th>26</th>\n",
       "      <td>0.024151</td>\n",
       "      <td>0.994286</td>\n",
       "      <td>0.069783</td>\n",
       "      <td>0.971098</td>\n",
       "      <td>26</td>\n",
       "    </tr>\n",
       "    <tr>\n",
       "      <th>27</th>\n",
       "      <td>0.031156</td>\n",
       "      <td>0.994286</td>\n",
       "      <td>0.058835</td>\n",
       "      <td>0.982659</td>\n",
       "      <td>27</td>\n",
       "    </tr>\n",
       "    <tr>\n",
       "      <th>28</th>\n",
       "      <td>0.022962</td>\n",
       "      <td>0.991429</td>\n",
       "      <td>0.057371</td>\n",
       "      <td>0.976879</td>\n",
       "      <td>28</td>\n",
       "    </tr>\n",
       "    <tr>\n",
       "      <th>29</th>\n",
       "      <td>0.032825</td>\n",
       "      <td>0.988571</td>\n",
       "      <td>0.102916</td>\n",
       "      <td>0.953757</td>\n",
       "      <td>29</td>\n",
       "    </tr>\n",
       "  </tbody>\n",
       "</table>\n",
       "</div>"
      ],
      "text/plain": [
       "        loss  accuracy  val_loss  val_accuracy  epoch\n",
       "25  0.031569  0.988571  0.058044      0.982659     25\n",
       "26  0.024151  0.994286  0.069783      0.971098     26\n",
       "27  0.031156  0.994286  0.058835      0.982659     27\n",
       "28  0.022962  0.991429  0.057371      0.976879     28\n",
       "29  0.032825  0.988571  0.102916      0.953757     29"
      ]
     },
     "execution_count": 22,
     "metadata": {},
     "output_type": "execute_result"
    }
   ],
   "source": [
    "hist1_df = pd.DataFrame(hist1.history)\n",
    "hist1_df[\"epoch\"]=hist1.epoch\n",
    "hist1_df.tail()"
   ]
  },
  {
   "cell_type": "markdown",
   "metadata": {},
   "source": [
    "#### Visualize Training History"
   ]
  },
  {
   "cell_type": "code",
   "execution_count": 23,
   "metadata": {},
   "outputs": [
    {
     "data": {
      "image/png": "[encoded data removed]",
      "text/plain": [
       "<Figure size 1440x360 with 1 Axes>"
      ]
     },
     "metadata": {},
     "output_type": "display_data"
    }
   ],
   "source": [
    "# summarize history for accuracy\n",
    "plt.plot(hist1.history['accuracy'])\n",
    "plt.plot(hist1.history['val_accuracy'])\n",
    "plt.title('model1 accuracy')\n",
    "plt.ylabel('accuracy')\n",
    "plt.xlabel('epoch')\n",
    "plt.legend(['train', 'test'], loc='upper left')\n",
    "plt.show()"
   ]
  },
  {
   "cell_type": "code",
   "execution_count": 24,
   "metadata": {},
   "outputs": [
    {
     "data": {
      "image/png": "[encoded data removed]",
      "text/plain": [
       "<Figure size 1440x360 with 1 Axes>"
      ]
     },
     "metadata": {},
     "output_type": "display_data"
    }
   ],
   "source": [
    "# summarize history for loss\n",
    "plt.plot(hist1.history['loss'])\n",
    "plt.plot(hist1.history['val_loss'])\n",
    "plt.title('model loss')\n",
    "plt.ylabel('loss')\n",
    "plt.xlabel('epoch')\n",
    "plt.legend(['train', 'test'], loc='upper left')\n",
    "plt.show() #Loss decreases and starts oscillating after 25\n"
   ]
  },
  {
   "cell_type": "markdown",
   "metadata": {},
   "source": [
    "## Tuning HyperParameters"
   ]
  },
  {
   "cell_type": "markdown",
   "metadata": {},
   "source": [
    "#### Standardizing X values"
   ]
  },
  {
   "cell_type": "code",
   "execution_count": 31,
   "metadata": {},
   "outputs": [],
   "source": [
    "from sklearn.preprocessing import StandardScaler\n",
    "a = StandardScaler()\n",
    "a.fit(X)\n",
    "X_standardized = a.transform(X)"
   ]
  },
  {
   "cell_type": "code",
   "execution_count": 33,
   "metadata": {},
   "outputs": [],
   "source": [
    "# Importing the necessary packages\n",
    "from sklearn.model_selection import GridSearchCV, KFold\n",
    "from keras.wrappers.scikit_learn import KerasClassifier\n",
    "from keras.optimizers import Adam"
   ]
  },
  {
   "cell_type": "markdown",
   "metadata": {},
   "source": [
    "#### Tuning set 1 : Batch Size and Epochs"
   ]
  },
  {
   "cell_type": "code",
   "execution_count": 40,
   "metadata": {},
   "outputs": [],
   "source": [
    "# create model function\n",
    "def create_model():\n",
    "    model = Sequential()\n",
    "    model.add(Dense(14, input_dim=11, kernel_initializer='uniform', activation='relu'))\n",
    "    model.add(Dense(12, kernel_initializer='uniform', activation='relu'))\n",
    "    model.add(Dense(1, kernel_initializer='uniform', activation='sigmoid'))\n",
    "    \n",
    "    adam=Adam(lr=0.01) #learning rate = 0.01\n",
    "    model.compile(loss='binary_crossentropy', optimizer=adam, metrics=['accuracy'])\n",
    "    return model"
   ]
  },
  {
   "cell_type": "code",
   "execution_count": 41,
   "metadata": {
    "scrolled": true
   },
   "outputs": [
    {
     "name": "stdout",
     "output_type": "stream",
     "text": [
      "Fitting 5 folds for each of 12 candidates, totalling 60 fits\n",
      "[CV 1/5; 1/12] START batch_size=10, epochs=10...................................\n",
      "[CV 1/5; 1/12] END ....batch_size=10, epochs=10;, score=0.993 total time=   1.9s\n",
      "[CV 2/5; 1/12] START batch_size=10, epochs=10...................................\n",
      "[CV 2/5; 1/12] END ....batch_size=10, epochs=10;, score=0.973 total time=   2.3s\n",
      "[CV 3/5; 1/12] START batch_size=10, epochs=10...................................\n",
      "[CV 3/5; 1/12] END ....batch_size=10, epochs=10;, score=0.927 total time=   2.0s\n",
      "[CV 4/5; 1/12] START batch_size=10, epochs=10...................................\n",
      "[CV 4/5; 1/12] END ....batch_size=10, epochs=10;, score=0.966 total time=   2.0s\n",
      "[CV 5/5; 1/12] START batch_size=10, epochs=10...................................\n",
      "[CV 5/5; 1/12] END ....batch_size=10, epochs=10;, score=0.987 total time=   2.0s\n",
      "[CV 1/5; 2/12] START batch_size=10, epochs=25...................................\n",
      "[CV 1/5; 2/12] END ....batch_size=10, epochs=25;, score=0.993 total time=   3.2s\n",
      "[CV 2/5; 2/12] START batch_size=10, epochs=25...................................\n",
      "[CV 2/5; 2/12] END ....batch_size=10, epochs=25;, score=0.980 total time=   3.2s\n",
      "[CV 3/5; 2/12] START batch_size=10, epochs=25...................................\n",
      "[CV 3/5; 2/12] END ....batch_size=10, epochs=25;, score=0.953 total time=   3.8s\n",
      "[CV 4/5; 2/12] START batch_size=10, epochs=25...................................\n",
      "[CV 4/5; 2/12] END ....batch_size=10, epochs=25;, score=0.987 total time=   3.5s\n",
      "[CV 5/5; 2/12] START batch_size=10, epochs=25...................................\n",
      "[CV 5/5; 2/12] END ....batch_size=10, epochs=25;, score=1.000 total time=   3.2s\n",
      "[CV 1/5; 3/12] START batch_size=10, epochs=50...................................\n",
      "[CV 1/5; 3/12] END ....batch_size=10, epochs=50;, score=0.993 total time=   5.3s\n",
      "[CV 2/5; 3/12] START batch_size=10, epochs=50...................................\n",
      "[CV 2/5; 3/12] END ....batch_size=10, epochs=50;, score=0.980 total time=   5.3s\n",
      "[CV 3/5; 3/12] START batch_size=10, epochs=50...................................\n",
      "[CV 3/5; 3/12] END ....batch_size=10, epochs=50;, score=0.960 total time=   5.5s\n",
      "[CV 4/5; 3/12] START batch_size=10, epochs=50...................................\n",
      "[CV 4/5; 3/12] END ....batch_size=10, epochs=50;, score=0.980 total time=   4.7s\n",
      "[CV 5/5; 3/12] START batch_size=10, epochs=50...................................\n",
      "[CV 5/5; 3/12] END ....batch_size=10, epochs=50;, score=0.993 total time=   5.2s\n",
      "[CV 1/5; 4/12] START batch_size=10, epochs=100..................................\n",
      "[CV 1/5; 4/12] END ...batch_size=10, epochs=100;, score=0.987 total time=  10.1s\n",
      "[CV 2/5; 4/12] START batch_size=10, epochs=100..................................\n",
      "[CV 2/5; 4/12] END ...batch_size=10, epochs=100;, score=0.960 total time=   9.8s\n",
      "[CV 3/5; 4/12] START batch_size=10, epochs=100..................................\n",
      "[CV 3/5; 4/12] END ...batch_size=10, epochs=100;, score=0.947 total time=   8.6s\n",
      "[CV 4/5; 4/12] START batch_size=10, epochs=100..................................\n",
      "[CV 4/5; 4/12] END ...batch_size=10, epochs=100;, score=0.980 total time=   8.9s\n",
      "[CV 5/5; 4/12] START batch_size=10, epochs=100..................................\n",
      "[CV 5/5; 4/12] END ...batch_size=10, epochs=100;, score=1.000 total time=   8.9s\n",
      "[CV 1/5; 5/12] START batch_size=20, epochs=10...................................\n",
      "[CV 1/5; 5/12] END ....batch_size=20, epochs=10;, score=0.993 total time=   1.4s\n",
      "[CV 2/5; 5/12] START batch_size=20, epochs=10...................................\n",
      "[CV 2/5; 5/12] END ....batch_size=20, epochs=10;, score=0.920 total time=   1.4s\n",
      "[CV 3/5; 5/12] START batch_size=20, epochs=10...................................\n",
      "[CV 3/5; 5/12] END ....batch_size=20, epochs=10;, score=0.887 total time=   1.5s\n",
      "[CV 4/5; 5/12] START batch_size=20, epochs=10...................................\n",
      "[CV 4/5; 5/12] END ....batch_size=20, epochs=10;, score=0.973 total time=   1.5s\n",
      "[CV 5/5; 5/12] START batch_size=20, epochs=10...................................\n",
      "[CV 5/5; 5/12] END ....batch_size=20, epochs=10;, score=0.987 total time=   1.8s\n",
      "[CV 1/5; 6/12] START batch_size=20, epochs=25...................................\n",
      "[CV 1/5; 6/12] END ....batch_size=20, epochs=25;, score=0.987 total time=   2.0s\n",
      "[CV 2/5; 6/12] START batch_size=20, epochs=25...................................\n",
      "[CV 2/5; 6/12] END ....batch_size=20, epochs=25;, score=0.947 total time=   2.0s\n",
      "[CV 3/5; 6/12] START batch_size=20, epochs=25...................................\n",
      "[CV 3/5; 6/12] END ....batch_size=20, epochs=25;, score=0.960 total time=   1.9s\n",
      "[CV 4/5; 6/12] START batch_size=20, epochs=25...................................\n",
      "[CV 4/5; 6/12] END ....batch_size=20, epochs=25;, score=0.987 total time=   2.2s\n",
      "[CV 5/5; 6/12] START batch_size=20, epochs=25...................................\n",
      "[CV 5/5; 6/12] END ....batch_size=20, epochs=25;, score=1.000 total time=   2.1s\n",
      "[CV 1/5; 7/12] START batch_size=20, epochs=50...................................\n",
      "[CV 1/5; 7/12] END ....batch_size=20, epochs=50;, score=0.993 total time=   3.2s\n",
      "[CV 2/5; 7/12] START batch_size=20, epochs=50...................................\n",
      "[CV 2/5; 7/12] END ....batch_size=20, epochs=50;, score=0.980 total time=   3.0s\n",
      "[CV 3/5; 7/12] START batch_size=20, epochs=50...................................\n",
      "[CV 3/5; 7/12] END ....batch_size=20, epochs=50;, score=0.960 total time=   3.0s\n",
      "[CV 4/5; 7/12] START batch_size=20, epochs=50...................................\n",
      "[CV 4/5; 7/12] END ....batch_size=20, epochs=50;, score=0.993 total time=   2.9s\n",
      "[CV 5/5; 7/12] START batch_size=20, epochs=50...................................\n",
      "[CV 5/5; 7/12] END ....batch_size=20, epochs=50;, score=1.000 total time=   3.0s\n",
      "[CV 1/5; 8/12] START batch_size=20, epochs=100..................................\n",
      "[CV 1/5; 8/12] END ...batch_size=20, epochs=100;, score=0.993 total time=   5.0s\n",
      "[CV 2/5; 8/12] START batch_size=20, epochs=100..................................\n",
      "[CV 2/5; 8/12] END ...batch_size=20, epochs=100;, score=0.980 total time=   5.5s\n",
      "[CV 3/5; 8/12] START batch_size=20, epochs=100..................................\n",
      "[CV 3/5; 8/12] END ...batch_size=20, epochs=100;, score=0.953 total time=   4.7s\n",
      "[CV 4/5; 8/12] START batch_size=20, epochs=100..................................\n",
      "[CV 4/5; 8/12] END ...batch_size=20, epochs=100;, score=0.980 total time=   4.9s\n",
      "[CV 5/5; 8/12] START batch_size=20, epochs=100..................................\n",
      "[CV 5/5; 8/12] END ...batch_size=20, epochs=100;, score=1.000 total time=   4.8s\n",
      "[CV 1/5; 9/12] START batch_size=40, epochs=10...................................\n",
      "[CV 1/5; 9/12] END ....batch_size=40, epochs=10;, score=1.000 total time=   1.3s\n",
      "[CV 2/5; 9/12] START batch_size=40, epochs=10...................................\n",
      "[CV 2/5; 9/12] END ....batch_size=40, epochs=10;, score=0.973 total time=   1.6s\n",
      "[CV 3/5; 9/12] START batch_size=40, epochs=10...................................\n",
      "[CV 3/5; 9/12] END ....batch_size=40, epochs=10;, score=0.933 total time=   1.3s\n",
      "[CV 4/5; 9/12] START batch_size=40, epochs=10...................................\n",
      "[CV 4/5; 9/12] END ....batch_size=40, epochs=10;, score=0.980 total time=   1.2s\n",
      "[CV 5/5; 9/12] START batch_size=40, epochs=10...................................\n",
      "[CV 5/5; 9/12] END ....batch_size=40, epochs=10;, score=0.993 total time=   1.2s\n",
      "[CV 1/5; 10/12] START batch_size=40, epochs=25..................................\n",
      "[CV 1/5; 10/12] END ...batch_size=40, epochs=25;, score=0.980 total time=   1.6s\n",
      "[CV 2/5; 10/12] START batch_size=40, epochs=25..................................\n",
      "[CV 2/5; 10/12] END ...batch_size=40, epochs=25;, score=0.980 total time=   1.5s\n",
      "[CV 3/5; 10/12] START batch_size=40, epochs=25..................................\n",
      "[CV 3/5; 10/12] END ...batch_size=40, epochs=25;, score=0.953 total time=   1.8s\n",
      "[CV 4/5; 10/12] START batch_size=40, epochs=25..................................\n",
      "[CV 4/5; 10/12] END ...batch_size=40, epochs=25;, score=0.980 total time=   1.5s\n",
      "[CV 5/5; 10/12] START batch_size=40, epochs=25..................................\n",
      "[CV 5/5; 10/12] END ...batch_size=40, epochs=25;, score=0.993 total time=   1.6s\n",
      "[CV 1/5; 11/12] START batch_size=40, epochs=50..................................\n"
     ]
    },
    {
     "name": "stdout",
     "output_type": "stream",
     "text": [
      "[CV 1/5; 11/12] END ...batch_size=40, epochs=50;, score=0.973 total time=   2.1s\n",
      "[CV 2/5; 11/12] START batch_size=40, epochs=50..................................\n",
      "[CV 2/5; 11/12] END ...batch_size=40, epochs=50;, score=0.967 total time=   2.0s\n",
      "[CV 3/5; 11/12] START batch_size=40, epochs=50..................................\n",
      "[CV 3/5; 11/12] END ...batch_size=40, epochs=50;, score=0.940 total time=   2.0s\n",
      "[CV 4/5; 11/12] START batch_size=40, epochs=50..................................\n",
      "[CV 4/5; 11/12] END ...batch_size=40, epochs=50;, score=0.926 total time=   2.3s\n",
      "[CV 5/5; 11/12] START batch_size=40, epochs=50..................................\n",
      "[CV 5/5; 11/12] END ...batch_size=40, epochs=50;, score=1.000 total time=   2.0s\n",
      "[CV 1/5; 12/12] START batch_size=40, epochs=100.................................\n",
      "[CV 1/5; 12/12] END ..batch_size=40, epochs=100;, score=0.993 total time=   2.9s\n",
      "[CV 2/5; 12/12] START batch_size=40, epochs=100.................................\n",
      "[CV 2/5; 12/12] END ..batch_size=40, epochs=100;, score=0.980 total time=   3.0s\n",
      "[CV 3/5; 12/12] START batch_size=40, epochs=100.................................\n",
      "[CV 3/5; 12/12] END ..batch_size=40, epochs=100;, score=0.960 total time=   3.2s\n",
      "[CV 4/5; 12/12] START batch_size=40, epochs=100.................................\n",
      "[CV 4/5; 12/12] END ..batch_size=40, epochs=100;, score=0.987 total time=   3.0s\n",
      "[CV 5/5; 12/12] START batch_size=40, epochs=100.................................\n",
      "[CV 5/5; 12/12] END ..batch_size=40, epochs=100;, score=1.000 total time=   3.4s\n"
     ]
    }
   ],
   "source": [
    "# Create the model\n",
    "model = KerasClassifier(build_fn = create_model,verbose = 0)\n",
    "# Define the grid search parameters\n",
    "batch_size = [10,20,40]\n",
    "epochs = [10,25,50,100]\n",
    "# Make a dictionary of the grid search parameters\n",
    "param_grid = dict(batch_size = batch_size,epochs = epochs)\n",
    "# Build and fit the GridSearchCV\n",
    "grid = GridSearchCV(estimator = model,param_grid = param_grid,cv = KFold(),verbose = 10)\n",
    "grid_result = grid.fit(X_standardized,Y)"
   ]
  },
  {
   "cell_type": "code",
   "execution_count": 42,
   "metadata": {
    "scrolled": true
   },
   "outputs": [
    {
     "name": "stdout",
     "output_type": "stream",
     "text": [
      "Best : 0.9853243827819824, using {'batch_size': 20, 'epochs': 50}\n",
      "0.9692706942558289,0.023315780645128063 with: {'batch_size': 10, 'epochs': 10}\n",
      "0.982648766040802,0.01610632795118476 with: {'batch_size': 10, 'epochs': 25}\n",
      "0.9812975406646729,0.012214458869379876 with: {'batch_size': 10, 'epochs': 50}\n",
      "0.9746398210525513,0.01903637353565216 with: {'batch_size': 10, 'epochs': 100}\n",
      "0.9519463062286377,0.041578749645582974 with: {'batch_size': 20, 'epochs': 10}\n",
      "0.9759820938110352,0.019586210760548388 with: {'batch_size': 20, 'epochs': 25}\n",
      "0.9853243827819824,0.014231091410811513 with: {'batch_size': 20, 'epochs': 50}\n",
      "0.9813064932823181,0.016002332659674524 with: {'batch_size': 20, 'epochs': 100}\n",
      "0.9759642124176026,0.02331260554218599 with: {'batch_size': 40, 'epochs': 10}\n",
      "0.9772975444793701,0.013047604131378024 with: {'batch_size': 40, 'epochs': 25}\n",
      "0.9612349033355713,0.02591818162231602 with: {'batch_size': 40, 'epochs': 50}\n",
      "0.9839820981025695,0.013724082653705446 with: {'batch_size': 40, 'epochs': 100}\n"
     ]
    }
   ],
   "source": [
    "# Summarize the results\n",
    "print('Best : {}, using {}'.format(grid_result.best_score_,grid_result.best_params_))\n",
    "means = grid_result.cv_results_['mean_test_score']\n",
    "stds = grid_result.cv_results_['std_test_score']\n",
    "params = grid_result.cv_results_['params']\n",
    "for mean, stdev, param in zip(means, stds, params):\n",
    "  print('{},{} with: {}'.format(mean, stdev, param))\n",
    "#According to this, the best batch size is 20 and epochs is 50"
   ]
  },
  {
   "cell_type": "markdown",
   "metadata": {},
   "source": [
    "#### Tuning set 2 : Learning Rate and Dropout Rate"
   ]
  },
  {
   "cell_type": "code",
   "execution_count": 45,
   "metadata": {
    "scrolled": true
   },
   "outputs": [
    {
     "name": "stdout",
     "output_type": "stream",
     "text": [
      "Fitting 5 folds for each of 9 candidates, totalling 45 fits\n",
      "[CV 1/5; 1/9] START dropout_rate=0.0, learning_rate=0.001.......................\n",
      "[CV 1/5; 1/9] END dropout_rate=0.0, learning_rate=0.001;, score=0.993 total time=   3.2s\n",
      "[CV 2/5; 1/9] START dropout_rate=0.0, learning_rate=0.001.......................\n",
      "[CV 2/5; 1/9] END dropout_rate=0.0, learning_rate=0.001;, score=0.987 total time=   3.5s\n",
      "[CV 3/5; 1/9] START dropout_rate=0.0, learning_rate=0.001.......................\n",
      "[CV 3/5; 1/9] END dropout_rate=0.0, learning_rate=0.001;, score=0.960 total time=   3.6s\n",
      "[CV 4/5; 1/9] START dropout_rate=0.0, learning_rate=0.001.......................\n",
      "[CV 4/5; 1/9] END dropout_rate=0.0, learning_rate=0.001;, score=0.980 total time=   3.3s\n",
      "[CV 5/5; 1/9] START dropout_rate=0.0, learning_rate=0.001.......................\n",
      "[CV 5/5; 1/9] END dropout_rate=0.0, learning_rate=0.001;, score=1.000 total time=   3.5s\n",
      "[CV 1/5; 2/9] START dropout_rate=0.0, learning_rate=0.01........................\n",
      "[CV 1/5; 2/9] END dropout_rate=0.0, learning_rate=0.01;, score=1.000 total time=   3.4s\n",
      "[CV 2/5; 2/9] START dropout_rate=0.0, learning_rate=0.01........................\n",
      "[CV 2/5; 2/9] END dropout_rate=0.0, learning_rate=0.01;, score=0.987 total time=   3.3s\n",
      "[CV 3/5; 2/9] START dropout_rate=0.0, learning_rate=0.01........................\n",
      "[CV 3/5; 2/9] END dropout_rate=0.0, learning_rate=0.01;, score=0.927 total time=   3.1s\n",
      "[CV 4/5; 2/9] START dropout_rate=0.0, learning_rate=0.01........................\n",
      "[CV 4/5; 2/9] END dropout_rate=0.0, learning_rate=0.01;, score=0.966 total time=   3.6s\n",
      "[CV 5/5; 2/9] START dropout_rate=0.0, learning_rate=0.01........................\n",
      "[CV 5/5; 2/9] END dropout_rate=0.0, learning_rate=0.01;, score=0.987 total time=   3.5s\n",
      "[CV 1/5; 3/9] START dropout_rate=0.0, learning_rate=0.1.........................\n",
      "[CV 1/5; 3/9] END dropout_rate=0.0, learning_rate=0.1;, score=1.000 total time=   3.5s\n",
      "[CV 2/5; 3/9] START dropout_rate=0.0, learning_rate=0.1.........................\n",
      "[CV 2/5; 3/9] END dropout_rate=0.0, learning_rate=0.1;, score=0.973 total time=   3.3s\n",
      "[CV 3/5; 3/9] START dropout_rate=0.0, learning_rate=0.1.........................\n",
      "[CV 3/5; 3/9] END dropout_rate=0.0, learning_rate=0.1;, score=0.947 total time=   3.2s\n",
      "[CV 4/5; 3/9] START dropout_rate=0.0, learning_rate=0.1.........................\n",
      "[CV 4/5; 3/9] END dropout_rate=0.0, learning_rate=0.1;, score=0.980 total time=   3.4s\n",
      "[CV 5/5; 3/9] START dropout_rate=0.0, learning_rate=0.1.........................\n",
      "[CV 5/5; 3/9] END dropout_rate=0.0, learning_rate=0.1;, score=1.000 total time=   3.7s\n",
      "[CV 1/5; 4/9] START dropout_rate=0.1, learning_rate=0.001.......................\n",
      "[CV 1/5; 4/9] END dropout_rate=0.1, learning_rate=0.001;, score=1.000 total time=   4.4s\n",
      "[CV 2/5; 4/9] START dropout_rate=0.1, learning_rate=0.001.......................\n",
      "[CV 2/5; 4/9] END dropout_rate=0.1, learning_rate=0.001;, score=1.000 total time=   4.2s\n",
      "[CV 3/5; 4/9] START dropout_rate=0.1, learning_rate=0.001.......................\n",
      "[CV 3/5; 4/9] END dropout_rate=0.1, learning_rate=0.001;, score=0.947 total time=   4.8s\n",
      "[CV 4/5; 4/9] START dropout_rate=0.1, learning_rate=0.001.......................\n",
      "[CV 4/5; 4/9] END dropout_rate=0.1, learning_rate=0.001;, score=0.980 total time=   4.1s\n",
      "[CV 5/5; 4/9] START dropout_rate=0.1, learning_rate=0.001.......................\n",
      "[CV 5/5; 4/9] END dropout_rate=0.1, learning_rate=0.001;, score=1.000 total time=   4.9s\n",
      "[CV 1/5; 5/9] START dropout_rate=0.1, learning_rate=0.01........................\n",
      "[CV 1/5; 5/9] END dropout_rate=0.1, learning_rate=0.01;, score=1.000 total time=   3.2s\n",
      "[CV 2/5; 5/9] START dropout_rate=0.1, learning_rate=0.01........................\n",
      "[CV 2/5; 5/9] END dropout_rate=0.1, learning_rate=0.01;, score=0.973 total time=   3.4s\n",
      "[CV 3/5; 5/9] START dropout_rate=0.1, learning_rate=0.01........................\n",
      "[CV 3/5; 5/9] END dropout_rate=0.1, learning_rate=0.01;, score=0.933 total time=   3.5s\n",
      "[CV 4/5; 5/9] START dropout_rate=0.1, learning_rate=0.01........................\n",
      "[CV 4/5; 5/9] END dropout_rate=0.1, learning_rate=0.01;, score=0.993 total time=   3.4s\n",
      "[CV 5/5; 5/9] START dropout_rate=0.1, learning_rate=0.01........................\n",
      "[CV 5/5; 5/9] END dropout_rate=0.1, learning_rate=0.01;, score=0.993 total time=   3.4s\n",
      "[CV 1/5; 6/9] START dropout_rate=0.1, learning_rate=0.1.........................\n",
      "[CV 1/5; 6/9] END dropout_rate=0.1, learning_rate=0.1;, score=1.000 total time=   3.5s\n",
      "[CV 2/5; 6/9] START dropout_rate=0.1, learning_rate=0.1.........................\n",
      "[CV 2/5; 6/9] END dropout_rate=0.1, learning_rate=0.1;, score=0.973 total time=   3.9s\n",
      "[CV 3/5; 6/9] START dropout_rate=0.1, learning_rate=0.1.........................\n",
      "[CV 3/5; 6/9] END dropout_rate=0.1, learning_rate=0.1;, score=0.853 total time=   3.2s\n",
      "[CV 4/5; 6/9] START dropout_rate=0.1, learning_rate=0.1.........................\n",
      "[CV 4/5; 6/9] END dropout_rate=0.1, learning_rate=0.1;, score=0.946 total time=   3.2s\n",
      "[CV 5/5; 6/9] START dropout_rate=0.1, learning_rate=0.1.........................\n",
      "[CV 5/5; 6/9] END dropout_rate=0.1, learning_rate=0.1;, score=0.980 total time=   3.2s\n",
      "[CV 1/5; 7/9] START dropout_rate=0.2, learning_rate=0.001.......................\n",
      "[CV 1/5; 7/9] END dropout_rate=0.2, learning_rate=0.001;, score=1.000 total time=   3.4s\n",
      "[CV 2/5; 7/9] START dropout_rate=0.2, learning_rate=0.001.......................\n",
      "[CV 2/5; 7/9] END dropout_rate=0.2, learning_rate=0.001;, score=0.993 total time=   3.4s\n",
      "[CV 3/5; 7/9] START dropout_rate=0.2, learning_rate=0.001.......................\n",
      "[CV 3/5; 7/9] END dropout_rate=0.2, learning_rate=0.001;, score=0.967 total time=   3.8s\n",
      "[CV 4/5; 7/9] START dropout_rate=0.2, learning_rate=0.001.......................\n",
      "[CV 4/5; 7/9] END dropout_rate=0.2, learning_rate=0.001;, score=0.993 total time=   3.3s\n",
      "[CV 5/5; 7/9] START dropout_rate=0.2, learning_rate=0.001.......................\n",
      "[CV 5/5; 7/9] END dropout_rate=0.2, learning_rate=0.001;, score=1.000 total time=   3.2s\n",
      "[CV 1/5; 8/9] START dropout_rate=0.2, learning_rate=0.01........................\n",
      "[CV 1/5; 8/9] END dropout_rate=0.2, learning_rate=0.01;, score=1.000 total time=   3.3s\n",
      "[CV 2/5; 8/9] START dropout_rate=0.2, learning_rate=0.01........................\n",
      "[CV 2/5; 8/9] END dropout_rate=0.2, learning_rate=0.01;, score=0.993 total time=   3.5s\n",
      "[CV 3/5; 8/9] START dropout_rate=0.2, learning_rate=0.01........................\n",
      "[CV 3/5; 8/9] END dropout_rate=0.2, learning_rate=0.01;, score=0.960 total time=   3.4s\n",
      "[CV 4/5; 8/9] START dropout_rate=0.2, learning_rate=0.01........................\n",
      "[CV 4/5; 8/9] END dropout_rate=0.2, learning_rate=0.01;, score=0.966 total time=   3.8s\n",
      "[CV 5/5; 8/9] START dropout_rate=0.2, learning_rate=0.01........................\n",
      "[CV 5/5; 8/9] END dropout_rate=0.2, learning_rate=0.01;, score=1.000 total time=   3.2s\n",
      "[CV 1/5; 9/9] START dropout_rate=0.2, learning_rate=0.1.........................\n",
      "[CV 1/5; 9/9] END dropout_rate=0.2, learning_rate=0.1;, score=1.000 total time=   3.3s\n",
      "[CV 2/5; 9/9] START dropout_rate=0.2, learning_rate=0.1.........................\n",
      "[CV 2/5; 9/9] END dropout_rate=0.2, learning_rate=0.1;, score=0.873 total time=   3.3s\n",
      "[CV 3/5; 9/9] START dropout_rate=0.2, learning_rate=0.1.........................\n",
      "[CV 3/5; 9/9] END dropout_rate=0.2, learning_rate=0.1;, score=0.947 total time=   3.4s\n",
      "[CV 4/5; 9/9] START dropout_rate=0.2, learning_rate=0.1.........................\n",
      "[CV 4/5; 9/9] END dropout_rate=0.2, learning_rate=0.1;, score=0.886 total time=   3.3s\n",
      "[CV 5/5; 9/9] START dropout_rate=0.2, learning_rate=0.1.........................\n",
      "[CV 5/5; 9/9] END dropout_rate=0.2, learning_rate=0.1;, score=0.919 total time=   3.3s\n"
     ]
    }
   ],
   "source": [
    "from keras.layers import Dropout\n",
    "\n",
    "# Defining the model\n",
    "\n",
    "def create_model2(learning_rate,dropout_rate):\n",
    "    model = Sequential()\n",
    "    model.add(Dense(14,input_dim = 11,kernel_initializer = 'uniform',activation = 'relu'))\n",
    "    model.add(Dropout(dropout_rate))\n",
    "    model.add(Dense(12,input_dim = 14,kernel_initializer = 'uniform',activation = 'relu'))\n",
    "    model.add(Dropout(dropout_rate))\n",
    "    model.add(Dense(1,kernel_initializer='uniform',activation = 'sigmoid'))\n",
    "    \n",
    "    adam = Adam(lr = learning_rate)\n",
    "    model.compile(loss = 'binary_crossentropy',optimizer = adam,metrics = ['accuracy'])\n",
    "    return model\n",
    "\n",
    "# Create the model\n",
    "\n",
    "model2 = KerasClassifier(build_fn = create_model2,verbose = 0,batch_size = 20,epochs = 50)\n",
    "\n",
    "# Define the grid search parameters\n",
    "\n",
    "learning_rate = [0.001,0.01,0.1]\n",
    "dropout_rate = [0.0,0.1,0.2]\n",
    "\n",
    "# Make a dictionary of the grid search parameters\n",
    "\n",
    "param_grids2 = dict(learning_rate = learning_rate,dropout_rate = dropout_rate)\n",
    "\n",
    "# Build and fit the GridSearchCV\n",
    "\n",
    "grid2 = GridSearchCV(estimator = model2,param_grid = param_grids2,cv = KFold(),verbose = 10)\n",
    "grid_result2 = grid2.fit(X_standardized,Y)\n"
   ]
  },
  {
   "cell_type": "code",
   "execution_count": 46,
   "metadata": {},
   "outputs": [
    {
     "name": "stdout",
     "output_type": "stream",
     "text": [
      "Best : 0.9906577110290528, using {'dropout_rate': 0.2, 'learning_rate': 0.001}\n",
      "0.9839731574058532,0.013735439805387223 with: {'dropout_rate': 0.0, 'learning_rate': 0.001}\n",
      "0.9732706904411316,0.025649649782516215 with: {'dropout_rate': 0.0, 'learning_rate': 0.01}\n",
      "0.9799731612205506,0.01977660339974576 with: {'dropout_rate': 0.0, 'learning_rate': 0.1}\n",
      "0.9853064894676209,0.02083427730469116 with: {'dropout_rate': 0.1, 'learning_rate': 0.001}\n",
      "0.9786487698554993,0.024356785231275848 with: {'dropout_rate': 0.1, 'learning_rate': 0.01}\n",
      "0.9505682468414307,0.05156134675312402 with: {'dropout_rate': 0.1, 'learning_rate': 0.1}\n",
      "0.9906577110290528,0.012362918046183854 with: {'dropout_rate': 0.2, 'learning_rate': 0.001}\n",
      "0.9839552521705628,0.017224125590499545 with: {'dropout_rate': 0.2, 'learning_rate': 0.01}\n",
      "0.9250738263130188,0.04543755282501266 with: {'dropout_rate': 0.2, 'learning_rate': 0.1}\n"
     ]
    }
   ],
   "source": [
    "# Summarize the results\n",
    "print('Best : {}, using {}'.format(grid_result2.best_score_,grid_result2.best_params_))\n",
    "means2 = grid_result2.cv_results_['mean_test_score']\n",
    "stds2 = grid_result2.cv_results_['std_test_score']\n",
    "params2 = grid_result2.cv_results_['params']\n",
    "for mean, stdev, param in zip(means2, stds2, params2):\n",
    "  print('{},{} with: {}'.format(mean, stdev, param))\n",
    "#Best score for Dropout rate = 0.2 and learning rate is 0.001"
   ]
  },
  {
   "cell_type": "markdown",
   "metadata": {},
   "source": [
    "#### Tuning set 3 : Activation Function and Kernel Initializer"
   ]
  },
  {
   "cell_type": "code",
   "execution_count": 49,
   "metadata": {
    "scrolled": true
   },
   "outputs": [
    {
     "name": "stdout",
     "output_type": "stream",
     "text": [
      "Fitting 5 folds for each of 12 candidates, totalling 60 fits\n",
      "[CV 1/5; 1/12] START activation_function=softmax, init=uniform..................\n",
      "[CV 1/5; 1/12] END activation_function=softmax, init=uniform;, score=0.000 total time=   3.4s\n",
      "[CV 2/5; 1/12] START activation_function=softmax, init=uniform..................\n",
      "[CV 2/5; 1/12] END activation_function=softmax, init=uniform;, score=0.820 total time=   3.5s\n",
      "[CV 3/5; 1/12] START activation_function=softmax, init=uniform..................\n",
      "[CV 3/5; 1/12] END activation_function=softmax, init=uniform;, score=0.480 total time=   3.4s\n",
      "[CV 4/5; 1/12] START activation_function=softmax, init=uniform..................\n",
      "[CV 4/5; 1/12] END activation_function=softmax, init=uniform;, score=0.664 total time=   3.5s\n",
      "[CV 5/5; 1/12] START activation_function=softmax, init=uniform..................\n",
      "[CV 5/5; 1/12] END activation_function=softmax, init=uniform;, score=0.161 total time=   3.6s\n",
      "[CV 1/5; 2/12] START activation_function=softmax, init=normal...................\n",
      "[CV 1/5; 2/12] END activation_function=softmax, init=normal;, score=0.000 total time=   4.1s\n",
      "[CV 2/5; 2/12] START activation_function=softmax, init=normal...................\n",
      "[CV 2/5; 2/12] END activation_function=softmax, init=normal;, score=0.827 total time=   3.6s\n",
      "[CV 3/5; 2/12] START activation_function=softmax, init=normal...................\n",
      "[CV 3/5; 2/12] END activation_function=softmax, init=normal;, score=0.460 total time=   3.5s\n",
      "[CV 4/5; 2/12] START activation_function=softmax, init=normal...................\n",
      "[CV 4/5; 2/12] END activation_function=softmax, init=normal;, score=0.658 total time=   3.5s\n",
      "[CV 5/5; 2/12] START activation_function=softmax, init=normal...................\n",
      "[CV 5/5; 2/12] END activation_function=softmax, init=normal;, score=0.121 total time=   3.5s\n",
      "[CV 1/5; 3/12] START activation_function=softmax, init=zero.....................\n",
      "[CV 1/5; 3/12] END activation_function=softmax, init=zero;, score=0.000 total time=   3.6s\n",
      "[CV 2/5; 3/12] START activation_function=softmax, init=zero.....................\n",
      "[CV 2/5; 3/12] END activation_function=softmax, init=zero;, score=0.827 total time=   3.4s\n",
      "[CV 3/5; 3/12] START activation_function=softmax, init=zero.....................\n",
      "[CV 3/5; 3/12] END activation_function=softmax, init=zero;, score=0.453 total time=   4.0s\n",
      "[CV 4/5; 3/12] START activation_function=softmax, init=zero.....................\n",
      "[CV 4/5; 3/12] END activation_function=softmax, init=zero;, score=0.644 total time=   3.4s\n",
      "[CV 5/5; 3/12] START activation_function=softmax, init=zero.....................\n",
      "[CV 5/5; 3/12] END activation_function=softmax, init=zero;, score=0.000 total time=   3.5s\n",
      "[CV 1/5; 4/12] START activation_function=relu, init=uniform.....................\n",
      "[CV 1/5; 4/12] END activation_function=relu, init=uniform;, score=1.000 total time=   3.3s\n",
      "[CV 2/5; 4/12] START activation_function=relu, init=uniform.....................\n",
      "[CV 2/5; 4/12] END activation_function=relu, init=uniform;, score=0.993 total time=   3.3s\n",
      "[CV 3/5; 4/12] START activation_function=relu, init=uniform.....................\n",
      "[CV 3/5; 4/12] END activation_function=relu, init=uniform;, score=0.973 total time=   3.3s\n",
      "[CV 4/5; 4/12] START activation_function=relu, init=uniform.....................\n",
      "[CV 4/5; 4/12] END activation_function=relu, init=uniform;, score=0.993 total time=   3.8s\n",
      "[CV 5/5; 4/12] START activation_function=relu, init=uniform.....................\n",
      "[CV 5/5; 4/12] END activation_function=relu, init=uniform;, score=1.000 total time=   3.2s\n",
      "[CV 1/5; 5/12] START activation_function=relu, init=normal......................\n",
      "[CV 1/5; 5/12] END activation_function=relu, init=normal;, score=0.993 total time=   3.3s\n",
      "[CV 2/5; 5/12] START activation_function=relu, init=normal......................\n",
      "[CV 2/5; 5/12] END activation_function=relu, init=normal;, score=0.993 total time=   3.5s\n",
      "[CV 3/5; 5/12] START activation_function=relu, init=normal......................\n",
      "[CV 3/5; 5/12] END activation_function=relu, init=normal;, score=0.960 total time=   3.3s\n",
      "[CV 4/5; 5/12] START activation_function=relu, init=normal......................\n",
      "[CV 4/5; 5/12] END activation_function=relu, init=normal;, score=0.987 total time=   3.4s\n",
      "[CV 5/5; 5/12] START activation_function=relu, init=normal......................\n",
      "[CV 5/5; 5/12] END activation_function=relu, init=normal;, score=1.000 total time=   3.3s\n",
      "[CV 1/5; 6/12] START activation_function=relu, init=zero........................\n",
      "[CV 1/5; 6/12] END activation_function=relu, init=zero;, score=0.000 total time=   3.3s\n",
      "[CV 2/5; 6/12] START activation_function=relu, init=zero........................\n",
      "[CV 2/5; 6/12] END activation_function=relu, init=zero;, score=0.493 total time=   3.8s\n",
      "[CV 3/5; 6/12] START activation_function=relu, init=zero........................\n",
      "[CV 3/5; 6/12] END activation_function=relu, init=zero;, score=0.280 total time=   3.4s\n",
      "[CV 4/5; 6/12] START activation_function=relu, init=zero........................\n",
      "[CV 4/5; 6/12] END activation_function=relu, init=zero;, score=0.268 total time=   3.3s\n",
      "[CV 5/5; 6/12] START activation_function=relu, init=zero........................\n",
      "[CV 5/5; 6/12] END activation_function=relu, init=zero;, score=0.000 total time=   3.3s\n",
      "[CV 1/5; 7/12] START activation_function=tanh, init=uniform.....................\n",
      "[CV 1/5; 7/12] END activation_function=tanh, init=uniform;, score=1.000 total time=   3.4s\n",
      "[CV 2/5; 7/12] START activation_function=tanh, init=uniform.....................\n",
      "[CV 2/5; 7/12] END activation_function=tanh, init=uniform;, score=0.993 total time=   3.4s\n",
      "[CV 3/5; 7/12] START activation_function=tanh, init=uniform.....................\n",
      "[CV 3/5; 7/12] END activation_function=tanh, init=uniform;, score=0.960 total time=   3.3s\n",
      "[CV 4/5; 7/12] START activation_function=tanh, init=uniform.....................\n",
      "[CV 4/5; 7/12] END activation_function=tanh, init=uniform;, score=0.993 total time=   3.9s\n",
      "[CV 5/5; 7/12] START activation_function=tanh, init=uniform.....................\n",
      "[CV 5/5; 7/12] END activation_function=tanh, init=uniform;, score=1.000 total time=   3.1s\n",
      "[CV 1/5; 8/12] START activation_function=tanh, init=normal......................\n",
      "[CV 1/5; 8/12] END activation_function=tanh, init=normal;, score=1.000 total time=   3.2s\n",
      "[CV 2/5; 8/12] START activation_function=tanh, init=normal......................\n",
      "[CV 2/5; 8/12] END activation_function=tanh, init=normal;, score=0.993 total time=   3.2s\n",
      "[CV 3/5; 8/12] START activation_function=tanh, init=normal......................\n",
      "[CV 3/5; 8/12] END activation_function=tanh, init=normal;, score=0.960 total time=   3.1s\n",
      "[CV 4/5; 8/12] START activation_function=tanh, init=normal......................\n",
      "[CV 4/5; 8/12] END activation_function=tanh, init=normal;, score=0.993 total time=   3.1s\n",
      "[CV 5/5; 8/12] START activation_function=tanh, init=normal......................\n",
      "[CV 5/5; 8/12] END activation_function=tanh, init=normal;, score=1.000 total time=   3.1s\n",
      "[CV 1/5; 9/12] START activation_function=tanh, init=zero........................\n",
      "[CV 1/5; 9/12] END activation_function=tanh, init=zero;, score=0.000 total time=   3.8s\n",
      "[CV 2/5; 9/12] START activation_function=tanh, init=zero........................\n",
      "[CV 2/5; 9/12] END activation_function=tanh, init=zero;, score=0.493 total time=   3.2s\n",
      "[CV 3/5; 9/12] START activation_function=tanh, init=zero........................\n",
      "[CV 3/5; 9/12] END activation_function=tanh, init=zero;, score=0.280 total time=   3.4s\n",
      "[CV 4/5; 9/12] START activation_function=tanh, init=zero........................\n",
      "[CV 4/5; 9/12] END activation_function=tanh, init=zero;, score=0.268 total time=   3.2s\n",
      "[CV 5/5; 9/12] START activation_function=tanh, init=zero........................\n",
      "[CV 5/5; 9/12] END activation_function=tanh, init=zero;, score=0.000 total time=   3.3s\n",
      "[CV 1/5; 10/12] START activation_function=linear, init=uniform..................\n",
      "[CV 1/5; 10/12] END activation_function=linear, init=uniform;, score=1.000 total time=   3.2s\n",
      "[CV 2/5; 10/12] START activation_function=linear, init=uniform..................\n",
      "[CV 2/5; 10/12] END activation_function=linear, init=uniform;, score=0.993 total time=   3.2s\n",
      "[CV 3/5; 10/12] START activation_function=linear, init=uniform..................\n"
     ]
    },
    {
     "name": "stdout",
     "output_type": "stream",
     "text": [
      "[CV 3/5; 10/12] END activation_function=linear, init=uniform;, score=0.960 total time=   3.2s\n",
      "[CV 4/5; 10/12] START activation_function=linear, init=uniform..................\n",
      "[CV 4/5; 10/12] END activation_function=linear, init=uniform;, score=0.993 total time=   3.8s\n",
      "[CV 5/5; 10/12] START activation_function=linear, init=uniform..................\n",
      "[CV 5/5; 10/12] END activation_function=linear, init=uniform;, score=1.000 total time=   3.4s\n",
      "[CV 1/5; 11/12] START activation_function=linear, init=normal...................\n",
      "[CV 1/5; 11/12] END activation_function=linear, init=normal;, score=1.000 total time=   3.3s\n",
      "[CV 2/5; 11/12] START activation_function=linear, init=normal...................\n",
      "[CV 2/5; 11/12] END activation_function=linear, init=normal;, score=0.993 total time=   3.1s\n",
      "[CV 3/5; 11/12] START activation_function=linear, init=normal...................\n",
      "[CV 3/5; 11/12] END activation_function=linear, init=normal;, score=0.960 total time=   3.2s\n",
      "[CV 4/5; 11/12] START activation_function=linear, init=normal...................\n",
      "[CV 4/5; 11/12] END activation_function=linear, init=normal;, score=0.993 total time=   3.5s\n",
      "[CV 5/5; 11/12] START activation_function=linear, init=normal...................\n",
      "[CV 5/5; 11/12] END activation_function=linear, init=normal;, score=1.000 total time=   4.0s\n",
      "[CV 1/5; 12/12] START activation_function=linear, init=zero.....................\n",
      "[CV 1/5; 12/12] END activation_function=linear, init=zero;, score=0.000 total time=   4.7s\n",
      "[CV 2/5; 12/12] START activation_function=linear, init=zero.....................\n",
      "[CV 2/5; 12/12] END activation_function=linear, init=zero;, score=0.493 total time=   4.1s\n",
      "[CV 3/5; 12/12] START activation_function=linear, init=zero.....................\n",
      "[CV 3/5; 12/12] END activation_function=linear, init=zero;, score=0.280 total time=   4.1s\n",
      "[CV 4/5; 12/12] START activation_function=linear, init=zero.....................\n",
      "[CV 4/5; 12/12] END activation_function=linear, init=zero;, score=0.268 total time=   3.5s\n",
      "[CV 5/5; 12/12] START activation_function=linear, init=zero.....................\n",
      "[CV 5/5; 12/12] END activation_function=linear, init=zero;, score=0.000 total time=   3.2s\n"
     ]
    }
   ],
   "source": [
    "# Defining the model\n",
    "\n",
    "def create_model3(activation_function,init):\n",
    "    model = Sequential()\n",
    "    model.add(Dense(14,input_dim = 11,kernel_initializer = init,activation = activation_function))\n",
    "    model.add(Dropout(0.2))\n",
    "    model.add(Dense(12,input_dim = 14,kernel_initializer = init,activation = activation_function))\n",
    "    model.add(Dropout(0.2))\n",
    "    model.add(Dense(1,activation = 'sigmoid'))\n",
    "    \n",
    "    adam = Adam(lr = 0.001)\n",
    "    model.compile(loss = 'binary_crossentropy',optimizer = adam,metrics = ['accuracy'])\n",
    "    return model\n",
    "\n",
    "# Create the model\n",
    "\n",
    "model3 = KerasClassifier(build_fn = create_model3,verbose = 0,batch_size = 20,epochs = 50)\n",
    "\n",
    "# Define the grid search parameters\n",
    "activation_function = ['softmax','relu','tanh','linear']\n",
    "init = ['uniform','normal','zero']\n",
    "\n",
    "# Make a dictionary of the grid search parameters\n",
    "param_grids3 = dict(activation_function = activation_function,init = init)\n",
    "\n",
    "# Build and fit the GridSearchCV\n",
    "\n",
    "grid3 = GridSearchCV(estimator = model3,param_grid = param_grids3,cv = KFold(),verbose = 10)\n",
    "grid_result3 = grid3.fit(X_standardized,Y)\n",
    "\n"
   ]
  },
  {
   "cell_type": "code",
   "execution_count": 50,
   "metadata": {},
   "outputs": [
    {
     "name": "stdout",
     "output_type": "stream",
     "text": [
      "Best : 0.9919910550117492, using {'activation_function': 'relu', 'init': 'uniform'}\n",
      "0.4251006692647934,0.3055023662202254 with: {'activation_function': 'softmax', 'init': 'uniform'}\n",
      "0.4130380302667618,0.3127819546568383 with: {'activation_function': 'softmax', 'init': 'normal'}\n",
      "0.3848590552806854,0.33568521545754904 with: {'activation_function': 'softmax', 'init': 'zero'}\n",
      "0.9919910550117492,0.009796747616825852 with: {'activation_function': 'relu', 'init': 'uniform'}\n",
      "0.9866487622261048,0.013984173207911177 with: {'activation_function': 'relu', 'init': 'normal'}\n",
      "0.2083579421043396,0.18803268169554102 with: {'activation_function': 'relu', 'init': 'zero'}\n",
      "0.9893243789672852,0.014964256467540295 with: {'activation_function': 'tanh', 'init': 'uniform'}\n",
      "0.9893243789672852,0.014964256467540295 with: {'activation_function': 'tanh', 'init': 'normal'}\n",
      "0.2083579421043396,0.18803268169554102 with: {'activation_function': 'tanh', 'init': 'zero'}\n",
      "0.9893243789672852,0.014964256467540295 with: {'activation_function': 'linear', 'init': 'uniform'}\n",
      "0.9893243789672852,0.014964256467540295 with: {'activation_function': 'linear', 'init': 'normal'}\n",
      "0.2083579421043396,0.18803268169554102 with: {'activation_function': 'linear', 'init': 'zero'}\n"
     ]
    }
   ],
   "source": [
    "# Summarize the results\n",
    "print('Best : {}, using {}'.format(grid_result3.best_score_,grid_result3.best_params_))\n",
    "means3 = grid_result3.cv_results_['mean_test_score']\n",
    "stds3 = grid_result3.cv_results_['std_test_score']\n",
    "params3 = grid_result3.cv_results_['params']\n",
    "for mean, stdev, param in zip(means3, stds3, params3):\n",
    "  print('{},{} with: {}'.format(mean, stdev, param))\n",
    "#best activation function in our case would be Relu and Kernel Initializer is Uniform"
   ]
  },
  {
   "cell_type": "markdown",
   "metadata": {},
   "source": [
    "#### Tuning Set 4: Number of neurons in activation layer"
   ]
  },
  {
   "cell_type": "code",
   "execution_count": 51,
   "metadata": {
    "scrolled": true
   },
   "outputs": [
    {
     "name": "stdout",
     "output_type": "stream",
     "text": [
      "Fitting 5 folds for each of 9 candidates, totalling 45 fits\n",
      "[CV 1/5; 1/9] START neuron1=4, neuron2=4........................................\n",
      "[CV 1/5; 1/9] END .........neuron1=4, neuron2=4;, score=1.000 total time=   3.1s\n",
      "[CV 2/5; 1/9] START neuron1=4, neuron2=4........................................\n",
      "[CV 2/5; 1/9] END .........neuron1=4, neuron2=4;, score=0.993 total time=   3.3s\n",
      "[CV 3/5; 1/9] START neuron1=4, neuron2=4........................................\n",
      "[CV 3/5; 1/9] END .........neuron1=4, neuron2=4;, score=0.967 total time=   3.9s\n",
      "[CV 4/5; 1/9] START neuron1=4, neuron2=4........................................\n",
      "[CV 4/5; 1/9] END .........neuron1=4, neuron2=4;, score=0.987 total time=   3.3s\n",
      "[CV 5/5; 1/9] START neuron1=4, neuron2=4........................................\n",
      "[CV 5/5; 1/9] END .........neuron1=4, neuron2=4;, score=1.000 total time=   3.1s\n",
      "[CV 1/5; 2/9] START neuron1=4, neuron2=8........................................\n",
      "[CV 1/5; 2/9] END .........neuron1=4, neuron2=8;, score=1.000 total time=   3.1s\n",
      "[CV 2/5; 2/9] START neuron1=4, neuron2=8........................................\n",
      "[CV 2/5; 2/9] END .........neuron1=4, neuron2=8;, score=0.993 total time=   3.0s\n",
      "[CV 3/5; 2/9] START neuron1=4, neuron2=8........................................\n",
      "[CV 3/5; 2/9] END .........neuron1=4, neuron2=8;, score=0.953 total time=   3.2s\n",
      "[CV 4/5; 2/9] START neuron1=4, neuron2=8........................................\n",
      "[CV 4/5; 2/9] END .........neuron1=4, neuron2=8;, score=0.879 total time=   3.2s\n",
      "[CV 5/5; 2/9] START neuron1=4, neuron2=8........................................\n",
      "[CV 5/5; 2/9] END .........neuron1=4, neuron2=8;, score=0.926 total time=   3.4s\n",
      "[CV 1/5; 3/9] START neuron1=4, neuron2=12.......................................\n",
      "[CV 1/5; 3/9] END ........neuron1=4, neuron2=12;, score=1.000 total time=   3.6s\n",
      "[CV 2/5; 3/9] START neuron1=4, neuron2=12.......................................\n",
      "[CV 2/5; 3/9] END ........neuron1=4, neuron2=12;, score=1.000 total time=   3.1s\n",
      "[CV 3/5; 3/9] START neuron1=4, neuron2=12.......................................\n",
      "[CV 3/5; 3/9] END ........neuron1=4, neuron2=12;, score=0.953 total time=   3.3s\n",
      "[CV 4/5; 3/9] START neuron1=4, neuron2=12.......................................\n",
      "[CV 4/5; 3/9] END ........neuron1=4, neuron2=12;, score=0.980 total time=   3.1s\n",
      "[CV 5/5; 3/9] START neuron1=4, neuron2=12.......................................\n",
      "[CV 5/5; 3/9] END ........neuron1=4, neuron2=12;, score=0.966 total time=   3.2s\n",
      "[CV 1/5; 4/9] START neuron1=8, neuron2=4........................................\n",
      "[CV 1/5; 4/9] END .........neuron1=8, neuron2=4;, score=0.993 total time=   3.1s\n",
      "[CV 2/5; 4/9] START neuron1=8, neuron2=4........................................\n",
      "[CV 2/5; 4/9] END .........neuron1=8, neuron2=4;, score=0.993 total time=   3.3s\n",
      "[CV 3/5; 4/9] START neuron1=8, neuron2=4........................................\n",
      "[CV 3/5; 4/9] END .........neuron1=8, neuron2=4;, score=0.967 total time=   3.0s\n",
      "[CV 4/5; 4/9] START neuron1=8, neuron2=4........................................\n",
      "[CV 4/5; 4/9] END .........neuron1=8, neuron2=4;, score=0.980 total time=   3.3s\n",
      "[CV 5/5; 4/9] START neuron1=8, neuron2=4........................................\n",
      "[CV 5/5; 4/9] END .........neuron1=8, neuron2=4;, score=0.993 total time=   4.1s\n",
      "[CV 1/5; 5/9] START neuron1=8, neuron2=8........................................\n",
      "[CV 1/5; 5/9] END .........neuron1=8, neuron2=8;, score=1.000 total time=   3.3s\n",
      "[CV 2/5; 5/9] START neuron1=8, neuron2=8........................................\n",
      "[CV 2/5; 5/9] END .........neuron1=8, neuron2=8;, score=0.993 total time=   3.4s\n",
      "[CV 3/5; 5/9] START neuron1=8, neuron2=8........................................\n",
      "[CV 3/5; 5/9] END .........neuron1=8, neuron2=8;, score=0.960 total time=   3.3s\n",
      "[CV 4/5; 5/9] START neuron1=8, neuron2=8........................................\n",
      "[CV 4/5; 5/9] END .........neuron1=8, neuron2=8;, score=0.987 total time=   3.1s\n",
      "[CV 5/5; 5/9] START neuron1=8, neuron2=8........................................\n",
      "[CV 5/5; 5/9] END .........neuron1=8, neuron2=8;, score=0.980 total time=   3.1s\n",
      "[CV 1/5; 6/9] START neuron1=8, neuron2=12.......................................\n",
      "[CV 1/5; 6/9] END ........neuron1=8, neuron2=12;, score=1.000 total time=   3.2s\n",
      "[CV 2/5; 6/9] START neuron1=8, neuron2=12.......................................\n",
      "[CV 2/5; 6/9] END ........neuron1=8, neuron2=12;, score=0.993 total time=   3.0s\n",
      "[CV 3/5; 6/9] START neuron1=8, neuron2=12.......................................\n",
      "[CV 3/5; 6/9] END ........neuron1=8, neuron2=12;, score=0.960 total time=   3.5s\n",
      "[CV 4/5; 6/9] START neuron1=8, neuron2=12.......................................\n",
      "[CV 4/5; 6/9] END ........neuron1=8, neuron2=12;, score=0.987 total time=   3.1s\n",
      "[CV 5/5; 6/9] START neuron1=8, neuron2=12.......................................\n",
      "[CV 5/5; 6/9] END ........neuron1=8, neuron2=12;, score=1.000 total time=   3.3s\n",
      "[CV 1/5; 7/9] START neuron1=14, neuron2=4.......................................\n",
      "[CV 1/5; 7/9] END ........neuron1=14, neuron2=4;, score=1.000 total time=   3.1s\n",
      "[CV 2/5; 7/9] START neuron1=14, neuron2=4.......................................\n",
      "[CV 2/5; 7/9] END ........neuron1=14, neuron2=4;, score=1.000 total time=   3.2s\n",
      "[CV 3/5; 7/9] START neuron1=14, neuron2=4.......................................\n",
      "[CV 3/5; 7/9] END ........neuron1=14, neuron2=4;, score=0.953 total time=   3.1s\n",
      "[CV 4/5; 7/9] START neuron1=14, neuron2=4.......................................\n",
      "[CV 4/5; 7/9] END ........neuron1=14, neuron2=4;, score=0.993 total time=   3.3s\n",
      "[CV 5/5; 7/9] START neuron1=14, neuron2=4.......................................\n",
      "[CV 5/5; 7/9] END ........neuron1=14, neuron2=4;, score=0.987 total time=   3.2s\n",
      "[CV 1/5; 8/9] START neuron1=14, neuron2=8.......................................\n",
      "[CV 1/5; 8/9] END ........neuron1=14, neuron2=8;, score=1.000 total time=   3.8s\n",
      "[CV 2/5; 8/9] START neuron1=14, neuron2=8.......................................\n",
      "[CV 2/5; 8/9] END ........neuron1=14, neuron2=8;, score=0.993 total time=   3.2s\n",
      "[CV 3/5; 8/9] START neuron1=14, neuron2=8.......................................\n",
      "[CV 3/5; 8/9] END ........neuron1=14, neuron2=8;, score=0.967 total time=   3.2s\n",
      "[CV 4/5; 8/9] START neuron1=14, neuron2=8.......................................\n",
      "[CV 4/5; 8/9] END ........neuron1=14, neuron2=8;, score=0.987 total time=   3.2s\n",
      "[CV 5/5; 8/9] START neuron1=14, neuron2=8.......................................\n",
      "[CV 5/5; 8/9] END ........neuron1=14, neuron2=8;, score=0.993 total time=   3.2s\n",
      "[CV 1/5; 9/9] START neuron1=14, neuron2=12......................................\n",
      "[CV 1/5; 9/9] END .......neuron1=14, neuron2=12;, score=1.000 total time=   3.2s\n",
      "[CV 2/5; 9/9] START neuron1=14, neuron2=12......................................\n",
      "[CV 2/5; 9/9] END .......neuron1=14, neuron2=12;, score=0.993 total time=   3.5s\n",
      "[CV 3/5; 9/9] START neuron1=14, neuron2=12......................................\n",
      "[CV 3/5; 9/9] END .......neuron1=14, neuron2=12;, score=0.960 total time=   3.3s\n",
      "[CV 4/5; 9/9] START neuron1=14, neuron2=12......................................\n",
      "[CV 4/5; 9/9] END .......neuron1=14, neuron2=12;, score=0.987 total time=   3.6s\n",
      "[CV 5/5; 9/9] START neuron1=14, neuron2=12......................................\n",
      "[CV 5/5; 9/9] END .......neuron1=14, neuron2=12;, score=1.000 total time=   4.1s\n"
     ]
    }
   ],
   "source": [
    "# Defining the model\n",
    "\n",
    "def create_model4(neuron1,neuron2):\n",
    "    model = Sequential()\n",
    "    model.add(Dense(neuron1,input_dim = 11,kernel_initializer = 'uniform',activation = 'relu'))\n",
    "    model.add(Dropout(0.2))\n",
    "    model.add(Dense(neuron2,input_dim = neuron1,kernel_initializer = 'uniform',activation = 'relu'))\n",
    "    model.add(Dropout(0.2))\n",
    "    model.add(Dense(1,activation = 'sigmoid'))\n",
    "    \n",
    "    adam = Adam(lr = 0.001)\n",
    "    model.compile(loss = 'binary_crossentropy',optimizer = adam,metrics = ['accuracy'])\n",
    "    return model\n",
    "\n",
    "# Create the model\n",
    "\n",
    "model4 = KerasClassifier(build_fn = create_model4,verbose = 0,batch_size = 20,epochs = 50)\n",
    "\n",
    "# Define the grid search parameters\n",
    "\n",
    "neuron1 = [4,8,14]\n",
    "neuron2 = [4,8,12]\n",
    "\n",
    "# Make a dictionary of the grid search parameters\n",
    "\n",
    "param_grids4 = dict(neuron1 = neuron1,neuron2 = neuron2)\n",
    "\n",
    "# Build and fit the GridSearchCV\n",
    "\n",
    "grid4 = GridSearchCV(estimator = model4,param_grid = param_grids4,cv = KFold(),verbose = 10)\n",
    "grid_result4 = grid4.fit(X_standardized,Y)\n"
   ]
  },
  {
   "cell_type": "code",
   "execution_count": 52,
   "metadata": {
    "scrolled": false
   },
   "outputs": [
    {
     "name": "stdout",
     "output_type": "stream",
     "text": [
      "Best : 0.9893154263496399, using {'neuron1': 4, 'neuron2': 4}\n",
      "0.9893154263496399,0.012368747477095985 with: {'neuron1': 4, 'neuron2': 4}\n",
      "0.9504071593284606,0.04465224764174379 with: {'neuron1': 4, 'neuron2': 8}\n",
      "0.9799284100532532,0.018411399230576865 with: {'neuron1': 4, 'neuron2': 12}\n",
      "0.9852975368499756,0.010673511244145176 with: {'neuron1': 8, 'neuron2': 4}\n",
      "0.9839552521705628,0.013731974830581403 with: {'neuron1': 8, 'neuron2': 8}\n",
      "0.9879820942878723,0.014849030970527012 with: {'neuron1': 8, 'neuron2': 12}\n",
      "0.9866398096084594,0.017381149390526294 with: {'neuron1': 14, 'neuron2': 4}\n",
      "0.9879731416702271,0.011467752515669366 with: {'neuron1': 14, 'neuron2': 8}\n",
      "0.9879820942878723,0.014849030970527012 with: {'neuron1': 14, 'neuron2': 12}\n"
     ]
    }
   ],
   "source": [
    "# Summarize the results\n",
    "print('Best : {}, using {}'.format(grid_result4.best_score_,grid_result4.best_params_))\n",
    "means4 = grid_result4.cv_results_['mean_test_score']\n",
    "stds4 = grid_result4.cv_results_['std_test_score']\n",
    "params4 = grid_result4.cv_results_['params']\n",
    "for mean, stdev, param in zip(means4, stds4, params4):\n",
    "  print('{},{} with: {}'.format(mean, stdev, param))\n",
    "\n",
    "#Best results are Neuron 1 = 4 and Neuron 2 = 4"
   ]
  },
  {
   "cell_type": "markdown",
   "metadata": {},
   "source": [
    "#### Tuning set 5: Trying all HyperParameters at once"
   ]
  },
  {
   "cell_type": "code",
   "execution_count": 55,
   "metadata": {
    "scrolled": true
   },
   "outputs": [
    {
     "data": {
      "text/plain": [
       "\"def create_model5(learning_rate,dropout_rate,activation_function,init,neuron1,neuron2):\\n    model = Sequential()\\n    model.add(Dense(neuron1,input_dim = 11,kernel_initializer = init,activation = activation_function))\\n    model.add(Dropout(dropout_rate))\\n    model.add(Dense(neuron2,input_dim = neuron1,kernel_initializer = init,activation = activation_function))\\n    model.add(Dropout(dropout_rate))\\n    model.add(Dense(1,activation = 'sigmoid'))\\n    \\n    adam = Adam(lr = learning_rate)\\n    model.compile(loss = 'binary_crossentropy',optimizer = adam,metrics = ['accuracy'])\\n    return model\\n\\n# Create the model\\n\\n#model5 = KerasClassifier(build_fn = create_model5,verbose = 0)\\n\\n# Define the grid search parameters\\n\\nbatch_size = [10,20,40]\\nepochs = [10,50,100]\\nlearning_rate = [0.001,0.01,0.1]\\ndropout_rate = [0.0,0.1,0.2]\\nactivation_function = ['relu','tanh','linear'] #removing softmax since it is for multiclass\\ninit = ['uniform','normal']\\nneuron1 = [4,8,16]\\nneuron2 = [2,4,8]\\n\\n# Make a dictionary of the grid search parameters\\n\\nparam_grids5 = dict(batch_size = batch_size,epochs = epochs,learning_rate = learning_rate,dropout_rate = dropout_rate,\\n                   activation_function = activation_function,init = init,neuron1 = neuron1,neuron2 = neuron2)\\n\\n# Build and fit the GridSearchCV\\n\\ngrid5 = GridSearchCV(estimator = model5,param_grid = param_grids5,cv = KFold(),verbose = 10)\\ngrid_result5 = grid5.fit(X_standardized,Y)\\n\""
      ]
     },
     "execution_count": 55,
     "metadata": {},
     "output_type": "execute_result"
    }
   ],
   "source": [
    "'''def create_model5(learning_rate,dropout_rate,activation_function,init,neuron1,neuron2):\n",
    "    model = Sequential()\n",
    "    model.add(Dense(neuron1,input_dim = 11,kernel_initializer = init,activation = activation_function))\n",
    "    model.add(Dropout(dropout_rate))\n",
    "    model.add(Dense(neuron2,input_dim = neuron1,kernel_initializer = init,activation = activation_function))\n",
    "    model.add(Dropout(dropout_rate))\n",
    "    model.add(Dense(1,activation = 'sigmoid'))\n",
    "    \n",
    "    adam = Adam(lr = learning_rate)\n",
    "    model.compile(loss = 'binary_crossentropy',optimizer = adam,metrics = ['accuracy'])\n",
    "    return model\n",
    "\n",
    "# Create the model\n",
    "\n",
    "#model5 = KerasClassifier(build_fn = create_model5,verbose = 0)\n",
    "\n",
    "# Define the grid search parameters\n",
    "\n",
    "batch_size = [10,20,40]\n",
    "epochs = [10,50,100]\n",
    "learning_rate = [0.001,0.01,0.1]\n",
    "dropout_rate = [0.0,0.1,0.2]\n",
    "activation_function = ['relu','tanh','linear'] #removing softmax since it is for multiclass\n",
    "init = ['uniform','normal']\n",
    "neuron1 = [4,8,16]\n",
    "neuron2 = [2,4,8]\n",
    "\n",
    "# Make a dictionary of the grid search parameters\n",
    "\n",
    "param_grids5 = dict(batch_size = batch_size,epochs = epochs,learning_rate = learning_rate,dropout_rate = dropout_rate,\n",
    "                   activation_function = activation_function,init = init,neuron1 = neuron1,neuron2 = neuron2)\n",
    "\n",
    "# Build and fit the GridSearchCV\n",
    "\n",
    "grid5 = GridSearchCV(estimator = model5,param_grid = param_grids5,cv = KFold(),verbose = 10)\n",
    "grid_result5 = grid5.fit(X_standardized,Y)\n",
    "'''\n",
    "#This would take approx 15 hours to complete"
   ]
  },
  {
   "cell_type": "markdown",
   "metadata": {},
   "source": [
    "## Building Final Model"
   ]
  },
  {
   "cell_type": "code",
   "execution_count": 58,
   "metadata": {},
   "outputs": [],
   "source": [
    "# Defining the model\n",
    "\n",
    "def create_model_fnl():\n",
    "    model = Sequential()\n",
    "    model.add(Dense(4,input_dim = 11,kernel_initializer = 'uniform',activation = 'relu'))\n",
    "    model.add(Dropout(0.2))\n",
    "    model.add(Dense(4,input_dim = 4,kernel_initializer = 'uniform',activation = 'relu'))\n",
    "    model.add(Dropout(0.2))\n",
    "    model.add(Dense(1,activation = 'sigmoid'))\n",
    "    \n",
    "    adam = Adam(lr = 0.001) #sgd = SGD(lr=learning_rate, momentum=momentum, decay=decay_rate, nesterov=False)\n",
    "    model.compile(loss = 'binary_crossentropy',optimizer = adam,metrics = ['accuracy'])\n",
    "    return model"
   ]
  },
  {
   "cell_type": "code",
   "execution_count": 59,
   "metadata": {},
   "outputs": [],
   "source": [
    "# Create the model\n",
    "model_fnl = KerasClassifier(build_fn = create_model_fnl,verbose = 0,batch_size = 20,epochs = 50)"
   ]
  },
  {
   "cell_type": "code",
   "execution_count": 61,
   "metadata": {},
   "outputs": [],
   "source": [
    "#Making training and Testing Data\n",
    "X_train_1, X_test_1, y_train_1, y_test_1 = train_test_split(X_standardized,Y, test_size = 0.3)\n"
   ]
  },
  {
   "cell_type": "code",
   "execution_count": 70,
   "metadata": {},
   "outputs": [],
   "source": [
    "# Fitting the model\n",
    "hist2 = model_fnl.fit(X_train_1,y_train_1)"
   ]
  },
  {
   "cell_type": "code",
   "execution_count": 71,
   "metadata": {},
   "outputs": [],
   "source": [
    "from sklearn.metrics import confusion_matrix,classification_report,plot_confusion_matrix\n",
    "def report_model(model):\n",
    "    model_preds = model.predict(X_test_1)\n",
    "    print(confusion_matrix(y_test_1,model_preds))\n",
    "    print(classification_report(y_test_1,model_preds))\n"
   ]
  },
  {
   "cell_type": "code",
   "execution_count": 72,
   "metadata": {
    "scrolled": true
   },
   "outputs": [
    {
     "name": "stdout",
     "output_type": "stream",
     "text": [
      "[[ 95  18]\n",
      " [  0 112]]\n",
      "              precision    recall  f1-score   support\n",
      "\n",
      "           0       1.00      0.84      0.91       113\n",
      "           1       0.86      1.00      0.93       112\n",
      "\n",
      "    accuracy                           0.92       225\n",
      "   macro avg       0.93      0.92      0.92       225\n",
      "weighted avg       0.93      0.92      0.92       225\n",
      "\n"
     ]
    }
   ],
   "source": [
    "report_model(model_fnl)"
   ]
  },
  {
   "cell_type": "markdown",
   "metadata": {},
   "source": [
    "## Conclusion\n",
    "- EDA was perfomed on initial dataset and all errors were removed.\n",
    "- Inbuilt databias of the dataset was rectified.\n",
    "- A general Neural Network was built first using random Parameters.\n",
    "- Training history plotting was done for the above model.\n",
    "- Tuning of HyperParameters was perfomed\n",
    "- An optimised Final Model was built with all the optimum hyperparameters.\n",
    "- Final model report was obtained."
   ]
  },
  {
   "cell_type": "code",
   "execution_count": null,
   "metadata": {},
   "outputs": [],
   "source": []
  }
 ],
 "metadata": {
  "kernelspec": {
   "display_name": "Python 3",
   "language": "python",
   "name": "python3"
  },
  "language_info": {
   "codemirror_mode": {
    "name": "ipython",
    "version": 3
   },
   "file_extension": ".py",
   "mimetype": "text/x-python",
   "name": "python",
   "nbconvert_exporter": "python",
   "pygments_lexer": "ipython3",
   "version": "3.8.5"
  }
 },
 "nbformat": 4,
 "nbformat_minor": 4
}
